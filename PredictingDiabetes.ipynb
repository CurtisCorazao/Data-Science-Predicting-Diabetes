{
 "cells": [
  {
   "cell_type": "markdown",
   "id": "6abd79c0",
   "metadata": {},
   "source": [
    "# Predictong Diabetes\n",
    "## Inport Libraries"
   ]
  },
  {
   "cell_type": "code",
   "execution_count": 1,
   "id": "875e16f0",
   "metadata": {},
   "outputs": [],
   "source": [
    "import pandas as pd                # pandas is a dataframe library\n",
    "import matplotlib.pyplot as plt    # matplotlib.pyplot plots data\n",
    "import numpy as np                 # numpy provides N-dim object support\n",
    "\n",
    "# do plotting inline instead of in a separate window\n",
    "import warnings\n",
    "warnings.filterwarnings(\"ignore\", category=DeprecationWarning)\n",
    "warnings.filterwarnings(\"ignore\", category=FutureWarning)\n",
    "warnings.filterwarnings(\"ignore\", category=UserWarning)\n",
    "plt.style.use('seaborn-colorblind')\n",
    "%matplotlib inline"
   ]
  },
  {
   "cell_type": "markdown",
   "id": "57cb2eb8",
   "metadata": {},
   "source": [
    "Load and Review data"
   ]
  },
  {
   "cell_type": "code",
   "execution_count": 2,
   "id": "49a2021e",
   "metadata": {},
   "outputs": [],
   "source": [
    "df = pd.read_csv(\"./data/pima-data.csv\")           # load Pima data. Adjust path as necessary"
   ]
  },
  {
   "cell_type": "code",
   "execution_count": 3,
   "id": "82daf365",
   "metadata": {},
   "outputs": [
    {
     "data": {
      "text/plain": [
       "(768, 10)"
      ]
     },
     "execution_count": 3,
     "metadata": {},
     "output_type": "execute_result"
    }
   ],
   "source": [
    "df.shape"
   ]
  },
  {
   "cell_type": "code",
   "execution_count": 4,
   "id": "7f9adaec",
   "metadata": {},
   "outputs": [
    {
     "data": {
      "text/html": [
       "<div>\n",
       "<style scoped>\n",
       "    .dataframe tbody tr th:only-of-type {\n",
       "        vertical-align: middle;\n",
       "    }\n",
       "\n",
       "    .dataframe tbody tr th {\n",
       "        vertical-align: top;\n",
       "    }\n",
       "\n",
       "    .dataframe thead th {\n",
       "        text-align: right;\n",
       "    }\n",
       "</style>\n",
       "<table border=\"1\" class=\"dataframe\">\n",
       "  <thead>\n",
       "    <tr style=\"text-align: right;\">\n",
       "      <th></th>\n",
       "      <th>num_preg</th>\n",
       "      <th>glucose_conc</th>\n",
       "      <th>diastolic_bp</th>\n",
       "      <th>thickness</th>\n",
       "      <th>insulin</th>\n",
       "      <th>bmi</th>\n",
       "      <th>diab_pred</th>\n",
       "      <th>age</th>\n",
       "      <th>skin</th>\n",
       "      <th>diabetes</th>\n",
       "    </tr>\n",
       "  </thead>\n",
       "  <tbody>\n",
       "    <tr>\n",
       "      <th>0</th>\n",
       "      <td>6</td>\n",
       "      <td>148</td>\n",
       "      <td>72</td>\n",
       "      <td>35</td>\n",
       "      <td>0</td>\n",
       "      <td>33.6</td>\n",
       "      <td>0.627</td>\n",
       "      <td>50</td>\n",
       "      <td>1.3790</td>\n",
       "      <td>True</td>\n",
       "    </tr>\n",
       "    <tr>\n",
       "      <th>1</th>\n",
       "      <td>1</td>\n",
       "      <td>85</td>\n",
       "      <td>66</td>\n",
       "      <td>29</td>\n",
       "      <td>0</td>\n",
       "      <td>26.6</td>\n",
       "      <td>0.351</td>\n",
       "      <td>31</td>\n",
       "      <td>1.1426</td>\n",
       "      <td>False</td>\n",
       "    </tr>\n",
       "    <tr>\n",
       "      <th>2</th>\n",
       "      <td>8</td>\n",
       "      <td>183</td>\n",
       "      <td>64</td>\n",
       "      <td>0</td>\n",
       "      <td>0</td>\n",
       "      <td>23.3</td>\n",
       "      <td>0.672</td>\n",
       "      <td>32</td>\n",
       "      <td>0.0000</td>\n",
       "      <td>True</td>\n",
       "    </tr>\n",
       "    <tr>\n",
       "      <th>3</th>\n",
       "      <td>1</td>\n",
       "      <td>89</td>\n",
       "      <td>66</td>\n",
       "      <td>23</td>\n",
       "      <td>94</td>\n",
       "      <td>28.1</td>\n",
       "      <td>0.167</td>\n",
       "      <td>21</td>\n",
       "      <td>0.9062</td>\n",
       "      <td>False</td>\n",
       "    </tr>\n",
       "    <tr>\n",
       "      <th>4</th>\n",
       "      <td>0</td>\n",
       "      <td>137</td>\n",
       "      <td>40</td>\n",
       "      <td>35</td>\n",
       "      <td>168</td>\n",
       "      <td>43.1</td>\n",
       "      <td>2.288</td>\n",
       "      <td>33</td>\n",
       "      <td>1.3790</td>\n",
       "      <td>True</td>\n",
       "    </tr>\n",
       "  </tbody>\n",
       "</table>\n",
       "</div>"
      ],
      "text/plain": [
       "   num_preg  glucose_conc  diastolic_bp  thickness  insulin   bmi  diab_pred  \\\n",
       "0         6           148            72         35        0  33.6      0.627   \n",
       "1         1            85            66         29        0  26.6      0.351   \n",
       "2         8           183            64          0        0  23.3      0.672   \n",
       "3         1            89            66         23       94  28.1      0.167   \n",
       "4         0           137            40         35      168  43.1      2.288   \n",
       "\n",
       "   age    skin  diabetes  \n",
       "0   50  1.3790      True  \n",
       "1   31  1.1426     False  \n",
       "2   32  0.0000      True  \n",
       "3   21  0.9062     False  \n",
       "4   33  1.3790      True  "
      ]
     },
     "execution_count": 4,
     "metadata": {},
     "output_type": "execute_result"
    }
   ],
   "source": [
    "df.head(5)                   # Notice the data frame uses colum names to acess colums in a data frame"
   ]
  },
  {
   "cell_type": "code",
   "execution_count": 5,
   "id": "4c54870d",
   "metadata": {},
   "outputs": [
    {
     "data": {
      "text/html": [
       "<div>\n",
       "<style scoped>\n",
       "    .dataframe tbody tr th:only-of-type {\n",
       "        vertical-align: middle;\n",
       "    }\n",
       "\n",
       "    .dataframe tbody tr th {\n",
       "        vertical-align: top;\n",
       "    }\n",
       "\n",
       "    .dataframe thead th {\n",
       "        text-align: right;\n",
       "    }\n",
       "</style>\n",
       "<table border=\"1\" class=\"dataframe\">\n",
       "  <thead>\n",
       "    <tr style=\"text-align: right;\">\n",
       "      <th></th>\n",
       "      <th>num_preg</th>\n",
       "      <th>glucose_conc</th>\n",
       "      <th>diastolic_bp</th>\n",
       "      <th>thickness</th>\n",
       "      <th>insulin</th>\n",
       "      <th>bmi</th>\n",
       "      <th>diab_pred</th>\n",
       "      <th>age</th>\n",
       "      <th>skin</th>\n",
       "      <th>diabetes</th>\n",
       "    </tr>\n",
       "  </thead>\n",
       "  <tbody>\n",
       "    <tr>\n",
       "      <th>763</th>\n",
       "      <td>10</td>\n",
       "      <td>101</td>\n",
       "      <td>76</td>\n",
       "      <td>48</td>\n",
       "      <td>180</td>\n",
       "      <td>32.9</td>\n",
       "      <td>0.171</td>\n",
       "      <td>63</td>\n",
       "      <td>1.8912</td>\n",
       "      <td>False</td>\n",
       "    </tr>\n",
       "    <tr>\n",
       "      <th>764</th>\n",
       "      <td>2</td>\n",
       "      <td>122</td>\n",
       "      <td>70</td>\n",
       "      <td>27</td>\n",
       "      <td>0</td>\n",
       "      <td>36.8</td>\n",
       "      <td>0.340</td>\n",
       "      <td>27</td>\n",
       "      <td>1.0638</td>\n",
       "      <td>False</td>\n",
       "    </tr>\n",
       "    <tr>\n",
       "      <th>765</th>\n",
       "      <td>5</td>\n",
       "      <td>121</td>\n",
       "      <td>72</td>\n",
       "      <td>23</td>\n",
       "      <td>112</td>\n",
       "      <td>26.2</td>\n",
       "      <td>0.245</td>\n",
       "      <td>30</td>\n",
       "      <td>0.9062</td>\n",
       "      <td>False</td>\n",
       "    </tr>\n",
       "    <tr>\n",
       "      <th>766</th>\n",
       "      <td>1</td>\n",
       "      <td>126</td>\n",
       "      <td>60</td>\n",
       "      <td>0</td>\n",
       "      <td>0</td>\n",
       "      <td>30.1</td>\n",
       "      <td>0.349</td>\n",
       "      <td>47</td>\n",
       "      <td>0.0000</td>\n",
       "      <td>True</td>\n",
       "    </tr>\n",
       "    <tr>\n",
       "      <th>767</th>\n",
       "      <td>1</td>\n",
       "      <td>93</td>\n",
       "      <td>70</td>\n",
       "      <td>31</td>\n",
       "      <td>0</td>\n",
       "      <td>30.4</td>\n",
       "      <td>0.315</td>\n",
       "      <td>23</td>\n",
       "      <td>1.2214</td>\n",
       "      <td>False</td>\n",
       "    </tr>\n",
       "  </tbody>\n",
       "</table>\n",
       "</div>"
      ],
      "text/plain": [
       "     num_preg  glucose_conc  diastolic_bp  thickness  insulin   bmi  \\\n",
       "763        10           101            76         48      180  32.9   \n",
       "764         2           122            70         27        0  36.8   \n",
       "765         5           121            72         23      112  26.2   \n",
       "766         1           126            60          0        0  30.1   \n",
       "767         1            93            70         31        0  30.4   \n",
       "\n",
       "     diab_pred  age    skin  diabetes  \n",
       "763      0.171   63  1.8912     False  \n",
       "764      0.340   27  1.0638     False  \n",
       "765      0.245   30  0.9062     False  \n",
       "766      0.349   47  0.0000      True  \n",
       "767      0.315   23  1.2214     False  "
      ]
     },
     "execution_count": 5,
     "metadata": {},
     "output_type": "execute_result"
    }
   ],
   "source": [
    "df.tail(5)                 # Notice the data frame uses a ZERO based index for identitying rows"
   ]
  },
  {
   "cell_type": "markdown",
   "id": "74abb6d7",
   "metadata": {},
   "source": [
    "### Definition of features\n",
    "\n",
    "From the metadata on the data source we have the following definition of the features.\n",
    "\n",
    "| Feature          | Description                                  | Comments\n",
    "|------------------|----------------------------------------------|---------------------------------------------\n",
    "| num_preg         | Number of pregnancies                        |\n",
    "| glucose_conc     | Plasma glucose concentrationon a 2 hours in an oral glucose tolerance test\n",
    "| diastolic_bp     | Diastolic blood pressure (mm Hg)             |\n",
    "| thickness        | Triceps skin fold thickness (mm)             |\n",
    "| insulin          | 2-Hour serum insulin (mu U/ml)               |\n",
    "| bmi              | Body mass index (weight in kg/(height in m)^2|\n",
    "| diab_pred        | Diabetes pedigree function                   |\n",
    "| age              | Age (years)                                  |\n",
    "| skin             | what is this? - Pigmentation index?          |                                |\n",
    "| diabetes         | Class variable (1=true, 0=Flse)              |"
   ]
  },
  {
   "cell_type": "markdown",
   "id": "9915be04",
   "metadata": {},
   "source": [
    "### Columns to Eliminate\n",
    "Not used\n",
    "No values\n",
    "Duplicates\n",
    "Correlated Columns : Same information in a different format --- Add little information\n",
    "Correlated Columns : Can cause algorithms to get confused"
   ]
  },
  {
   "cell_type": "markdown",
   "id": "f09d6e31",
   "metadata": {},
   "source": [
    "### Check for null values"
   ]
  },
  {
   "cell_type": "code",
   "execution_count": 6,
   "id": "b6c2f299",
   "metadata": {},
   "outputs": [
    {
     "data": {
      "text/plain": [
       "False"
      ]
     },
     "execution_count": 6,
     "metadata": {},
     "output_type": "execute_result"
    }
   ],
   "source": [
    "df.isnull().values.any()"
   ]
  },
  {
   "cell_type": "markdown",
   "id": "44ce8f6c",
   "metadata": {},
   "source": [
    "### Check for Correlated Values"
   ]
  },
  {
   "cell_type": "code",
   "execution_count": 7,
   "id": "94d1b4d6",
   "metadata": {},
   "outputs": [],
   "source": [
    "def plot_corr(df,size=11):\n",
    "    \"\"\"\n",
    "    Function plots a graphical correlation matrix for each pair of columns in the dataframe.\n",
    "    \n",
    "    Input:\n",
    "      df: pandas DataFrame\n",
    "      size: vertical and horizontal size of the plot\n",
    "      \n",
    "    Displays:\n",
    "      matrix of correlation between columns. Blue-cyan-yellow-red-darkred => less to more correlated\n",
    "                                             0 -------------------> 1\n",
    "                                             Expect a darkred line running from top left to bottom right\n",
    "    \"\"\"\n",
    "    \n",
    "    corr = df.corr()                         # data frame correlation function\n",
    "    fig, ax = plt.subplots(figsize=(size, size))\n",
    "    ax.matshow(corr)                         # color code the rectangles by correlation value\n",
    "    plt.xticks(range(len(corr.columns)), corr.columns)    # draw x tick marks\n",
    "    plt.yticks(range(len(corr.columns)), corr.columns)    # draw y tick marks"
   ]
  },
  {
   "cell_type": "code",
   "execution_count": 8,
   "id": "898b7bea",
   "metadata": {},
   "outputs": [
    {
     "data": {
      "image/png": "[encoded data removed]",
      "text/plain": [
       "<Figure size 1100x1100 with 1 Axes>"
      ]
     },
     "metadata": {},
     "output_type": "display_data"
    }
   ],
   "source": [
    "plot_corr(df)"
   ]
  },
  {
   "cell_type": "markdown",
   "id": "f9da4d38",
   "metadata": {},
   "source": [
    "### Check correlation coefficients of the correlation matrix vizualization"
   ]
  },
  {
   "cell_type": "code",
   "execution_count": 9,
   "id": "5636c85f",
   "metadata": {},
   "outputs": [
    {
     "data": {
      "text/html": [
       "<div>\n",
       "<style scoped>\n",
       "    .dataframe tbody tr th:only-of-type {\n",
       "        vertical-align: middle;\n",
       "    }\n",
       "\n",
       "    .dataframe tbody tr th {\n",
       "        vertical-align: top;\n",
       "    }\n",
       "\n",
       "    .dataframe thead th {\n",
       "        text-align: right;\n",
       "    }\n",
       "</style>\n",
       "<table border=\"1\" class=\"dataframe\">\n",
       "  <thead>\n",
       "    <tr style=\"text-align: right;\">\n",
       "      <th></th>\n",
       "      <th>num_preg</th>\n",
       "      <th>glucose_conc</th>\n",
       "      <th>diastolic_bp</th>\n",
       "      <th>thickness</th>\n",
       "      <th>insulin</th>\n",
       "      <th>bmi</th>\n",
       "      <th>diab_pred</th>\n",
       "      <th>age</th>\n",
       "      <th>skin</th>\n",
       "      <th>diabetes</th>\n",
       "    </tr>\n",
       "  </thead>\n",
       "  <tbody>\n",
       "    <tr>\n",
       "      <th>num_preg</th>\n",
       "      <td>1.000000</td>\n",
       "      <td>0.129459</td>\n",
       "      <td>0.141282</td>\n",
       "      <td>-0.081672</td>\n",
       "      <td>-0.073535</td>\n",
       "      <td>0.017683</td>\n",
       "      <td>-0.033523</td>\n",
       "      <td>0.544341</td>\n",
       "      <td>-0.081672</td>\n",
       "      <td>0.221898</td>\n",
       "    </tr>\n",
       "    <tr>\n",
       "      <th>glucose_conc</th>\n",
       "      <td>0.129459</td>\n",
       "      <td>1.000000</td>\n",
       "      <td>0.152590</td>\n",
       "      <td>0.057328</td>\n",
       "      <td>0.331357</td>\n",
       "      <td>0.221071</td>\n",
       "      <td>0.137337</td>\n",
       "      <td>0.263514</td>\n",
       "      <td>0.057328</td>\n",
       "      <td>0.466581</td>\n",
       "    </tr>\n",
       "    <tr>\n",
       "      <th>diastolic_bp</th>\n",
       "      <td>0.141282</td>\n",
       "      <td>0.152590</td>\n",
       "      <td>1.000000</td>\n",
       "      <td>0.207371</td>\n",
       "      <td>0.088933</td>\n",
       "      <td>0.281805</td>\n",
       "      <td>0.041265</td>\n",
       "      <td>0.239528</td>\n",
       "      <td>0.207371</td>\n",
       "      <td>0.065068</td>\n",
       "    </tr>\n",
       "    <tr>\n",
       "      <th>thickness</th>\n",
       "      <td>-0.081672</td>\n",
       "      <td>0.057328</td>\n",
       "      <td>0.207371</td>\n",
       "      <td>1.000000</td>\n",
       "      <td>0.436783</td>\n",
       "      <td>0.392573</td>\n",
       "      <td>0.183928</td>\n",
       "      <td>-0.113970</td>\n",
       "      <td>1.000000</td>\n",
       "      <td>0.074752</td>\n",
       "    </tr>\n",
       "    <tr>\n",
       "      <th>insulin</th>\n",
       "      <td>-0.073535</td>\n",
       "      <td>0.331357</td>\n",
       "      <td>0.088933</td>\n",
       "      <td>0.436783</td>\n",
       "      <td>1.000000</td>\n",
       "      <td>0.197859</td>\n",
       "      <td>0.185071</td>\n",
       "      <td>-0.042163</td>\n",
       "      <td>0.436783</td>\n",
       "      <td>0.130548</td>\n",
       "    </tr>\n",
       "    <tr>\n",
       "      <th>bmi</th>\n",
       "      <td>0.017683</td>\n",
       "      <td>0.221071</td>\n",
       "      <td>0.281805</td>\n",
       "      <td>0.392573</td>\n",
       "      <td>0.197859</td>\n",
       "      <td>1.000000</td>\n",
       "      <td>0.140647</td>\n",
       "      <td>0.036242</td>\n",
       "      <td>0.392573</td>\n",
       "      <td>0.292695</td>\n",
       "    </tr>\n",
       "    <tr>\n",
       "      <th>diab_pred</th>\n",
       "      <td>-0.033523</td>\n",
       "      <td>0.137337</td>\n",
       "      <td>0.041265</td>\n",
       "      <td>0.183928</td>\n",
       "      <td>0.185071</td>\n",
       "      <td>0.140647</td>\n",
       "      <td>1.000000</td>\n",
       "      <td>0.033561</td>\n",
       "      <td>0.183928</td>\n",
       "      <td>0.173844</td>\n",
       "    </tr>\n",
       "    <tr>\n",
       "      <th>age</th>\n",
       "      <td>0.544341</td>\n",
       "      <td>0.263514</td>\n",
       "      <td>0.239528</td>\n",
       "      <td>-0.113970</td>\n",
       "      <td>-0.042163</td>\n",
       "      <td>0.036242</td>\n",
       "      <td>0.033561</td>\n",
       "      <td>1.000000</td>\n",
       "      <td>-0.113970</td>\n",
       "      <td>0.238356</td>\n",
       "    </tr>\n",
       "    <tr>\n",
       "      <th>skin</th>\n",
       "      <td>-0.081672</td>\n",
       "      <td>0.057328</td>\n",
       "      <td>0.207371</td>\n",
       "      <td>1.000000</td>\n",
       "      <td>0.436783</td>\n",
       "      <td>0.392573</td>\n",
       "      <td>0.183928</td>\n",
       "      <td>-0.113970</td>\n",
       "      <td>1.000000</td>\n",
       "      <td>0.074752</td>\n",
       "    </tr>\n",
       "    <tr>\n",
       "      <th>diabetes</th>\n",
       "      <td>0.221898</td>\n",
       "      <td>0.466581</td>\n",
       "      <td>0.065068</td>\n",
       "      <td>0.074752</td>\n",
       "      <td>0.130548</td>\n",
       "      <td>0.292695</td>\n",
       "      <td>0.173844</td>\n",
       "      <td>0.238356</td>\n",
       "      <td>0.074752</td>\n",
       "      <td>1.000000</td>\n",
       "    </tr>\n",
       "  </tbody>\n",
       "</table>\n",
       "</div>"
      ],
      "text/plain": [
       "              num_preg  glucose_conc  diastolic_bp  thickness   insulin  \\\n",
       "num_preg      1.000000      0.129459      0.141282  -0.081672 -0.073535   \n",
       "glucose_conc  0.129459      1.000000      0.152590   0.057328  0.331357   \n",
       "diastolic_bp  0.141282      0.152590      1.000000   0.207371  0.088933   \n",
       "thickness    -0.081672      0.057328      0.207371   1.000000  0.436783   \n",
       "insulin      -0.073535      0.331357      0.088933   0.436783  1.000000   \n",
       "bmi           0.017683      0.221071      0.281805   0.392573  0.197859   \n",
       "diab_pred    -0.033523      0.137337      0.041265   0.183928  0.185071   \n",
       "age           0.544341      0.263514      0.239528  -0.113970 -0.042163   \n",
       "skin         -0.081672      0.057328      0.207371   1.000000  0.436783   \n",
       "diabetes      0.221898      0.466581      0.065068   0.074752  0.130548   \n",
       "\n",
       "                   bmi  diab_pred       age      skin  diabetes  \n",
       "num_preg      0.017683  -0.033523  0.544341 -0.081672  0.221898  \n",
       "glucose_conc  0.221071   0.137337  0.263514  0.057328  0.466581  \n",
       "diastolic_bp  0.281805   0.041265  0.239528  0.207371  0.065068  \n",
       "thickness     0.392573   0.183928 -0.113970  1.000000  0.074752  \n",
       "insulin       0.197859   0.185071 -0.042163  0.436783  0.130548  \n",
       "bmi           1.000000   0.140647  0.036242  0.392573  0.292695  \n",
       "diab_pred     0.140647   1.000000  0.033561  0.183928  0.173844  \n",
       "age           0.036242   0.033561  1.000000 -0.113970  0.238356  \n",
       "skin          0.392573   0.183928 -0.113970  1.000000  0.074752  \n",
       "diabetes      0.292695   0.173844  0.238356  0.074752  1.000000  "
      ]
     },
     "execution_count": 9,
     "metadata": {},
     "output_type": "execute_result"
    }
   ],
   "source": [
    "df.corr()"
   ]
  },
  {
   "cell_type": "markdown",
   "id": "35eeb6e3",
   "metadata": {},
   "source": [
    "Correlation coefficient of 1 indicates a perfect correlation (notice the same variables are 1)"
   ]
  },
  {
   "cell_type": "markdown",
   "id": "307dd73f",
   "metadata": {},
   "source": [
    "Notice Thickness and Skin have a perfect correlation with a correlation coefficient of 1. these variables do not\n",
    "add additional value "
   ]
  },
  {
   "cell_type": "markdown",
   "id": "e22d401c",
   "metadata": {},
   "source": [
    "Notice: thickness and skin should not be used at the same time. One of them can be used but not both at the same time, one needs to be dropped"
   ]
  },
  {
   "cell_type": "markdown",
   "id": "15fa24e7",
   "metadata": {},
   "source": [
    "It turns out that sking was calculated based on the value of thickness thus skin should be dropped."
   ]
  },
  {
   "cell_type": "code",
   "execution_count": 10,
   "id": "6aa9c95a",
   "metadata": {},
   "outputs": [],
   "source": [
    "del df['skin']                          # To delete the skin column from the dataframe"
   ]
  },
  {
   "cell_type": "code",
   "execution_count": 11,
   "id": "7aa718fb",
   "metadata": {},
   "outputs": [
    {
     "data": {
      "text/html": [
       "<div>\n",
       "<style scoped>\n",
       "    .dataframe tbody tr th:only-of-type {\n",
       "        vertical-align: middle;\n",
       "    }\n",
       "\n",
       "    .dataframe tbody tr th {\n",
       "        vertical-align: top;\n",
       "    }\n",
       "\n",
       "    .dataframe thead th {\n",
       "        text-align: right;\n",
       "    }\n",
       "</style>\n",
       "<table border=\"1\" class=\"dataframe\">\n",
       "  <thead>\n",
       "    <tr style=\"text-align: right;\">\n",
       "      <th></th>\n",
       "      <th>num_preg</th>\n",
       "      <th>glucose_conc</th>\n",
       "      <th>diastolic_bp</th>\n",
       "      <th>thickness</th>\n",
       "      <th>insulin</th>\n",
       "      <th>bmi</th>\n",
       "      <th>diab_pred</th>\n",
       "      <th>age</th>\n",
       "      <th>diabetes</th>\n",
       "    </tr>\n",
       "  </thead>\n",
       "  <tbody>\n",
       "    <tr>\n",
       "      <th>0</th>\n",
       "      <td>6</td>\n",
       "      <td>148</td>\n",
       "      <td>72</td>\n",
       "      <td>35</td>\n",
       "      <td>0</td>\n",
       "      <td>33.6</td>\n",
       "      <td>0.627</td>\n",
       "      <td>50</td>\n",
       "      <td>True</td>\n",
       "    </tr>\n",
       "    <tr>\n",
       "      <th>1</th>\n",
       "      <td>1</td>\n",
       "      <td>85</td>\n",
       "      <td>66</td>\n",
       "      <td>29</td>\n",
       "      <td>0</td>\n",
       "      <td>26.6</td>\n",
       "      <td>0.351</td>\n",
       "      <td>31</td>\n",
       "      <td>False</td>\n",
       "    </tr>\n",
       "    <tr>\n",
       "      <th>2</th>\n",
       "      <td>8</td>\n",
       "      <td>183</td>\n",
       "      <td>64</td>\n",
       "      <td>0</td>\n",
       "      <td>0</td>\n",
       "      <td>23.3</td>\n",
       "      <td>0.672</td>\n",
       "      <td>32</td>\n",
       "      <td>True</td>\n",
       "    </tr>\n",
       "    <tr>\n",
       "      <th>3</th>\n",
       "      <td>1</td>\n",
       "      <td>89</td>\n",
       "      <td>66</td>\n",
       "      <td>23</td>\n",
       "      <td>94</td>\n",
       "      <td>28.1</td>\n",
       "      <td>0.167</td>\n",
       "      <td>21</td>\n",
       "      <td>False</td>\n",
       "    </tr>\n",
       "    <tr>\n",
       "      <th>4</th>\n",
       "      <td>0</td>\n",
       "      <td>137</td>\n",
       "      <td>40</td>\n",
       "      <td>35</td>\n",
       "      <td>168</td>\n",
       "      <td>43.1</td>\n",
       "      <td>2.288</td>\n",
       "      <td>33</td>\n",
       "      <td>True</td>\n",
       "    </tr>\n",
       "  </tbody>\n",
       "</table>\n",
       "</div>"
      ],
      "text/plain": [
       "   num_preg  glucose_conc  diastolic_bp  thickness  insulin   bmi  diab_pred  \\\n",
       "0         6           148            72         35        0  33.6      0.627   \n",
       "1         1            85            66         29        0  26.6      0.351   \n",
       "2         8           183            64          0        0  23.3      0.672   \n",
       "3         1            89            66         23       94  28.1      0.167   \n",
       "4         0           137            40         35      168  43.1      2.288   \n",
       "\n",
       "   age  diabetes  \n",
       "0   50      True  \n",
       "1   31     False  \n",
       "2   32      True  \n",
       "3   21     False  \n",
       "4   33      True  "
      ]
     },
     "execution_count": 11,
     "metadata": {},
     "output_type": "execute_result"
    }
   ],
   "source": [
    "df.head()"
   ]
  },
  {
   "cell_type": "code",
   "execution_count": 12,
   "id": "a32998cf",
   "metadata": {},
   "outputs": [
    {
     "data": {
      "image/png": "[encoded data removed]",
      "text/plain": [
       "<Figure size 1100x1100 with 1 Axes>"
      ]
     },
     "metadata": {},
     "output_type": "display_data"
    }
   ],
   "source": [
    "plot_corr(df)        # Re-check the nplot to ensure that there are no addition correlated columns"
   ]
  },
  {
   "cell_type": "markdown",
   "id": "27d2c05a",
   "metadata": {},
   "source": [
    "Now the plot does not show any other correlated columns"
   ]
  },
  {
   "cell_type": "markdown",
   "id": "2472435a",
   "metadata": {},
   "source": [
    "### Molding the Data"
   ]
  },
  {
   "cell_type": "markdown",
   "id": "a2f5445b",
   "metadata": {},
   "source": [
    "This step will involve Adjusting Data Type and Creating new columns, if required"
   ]
  },
  {
   "cell_type": "markdown",
   "id": "96d1ddbf",
   "metadata": {},
   "source": [
    "### Check Data Types"
   ]
  },
  {
   "cell_type": "code",
   "execution_count": 13,
   "id": "b7be78fd",
   "metadata": {},
   "outputs": [
    {
     "data": {
      "text/html": [
       "<div>\n",
       "<style scoped>\n",
       "    .dataframe tbody tr th:only-of-type {\n",
       "        vertical-align: middle;\n",
       "    }\n",
       "\n",
       "    .dataframe tbody tr th {\n",
       "        vertical-align: top;\n",
       "    }\n",
       "\n",
       "    .dataframe thead th {\n",
       "        text-align: right;\n",
       "    }\n",
       "</style>\n",
       "<table border=\"1\" class=\"dataframe\">\n",
       "  <thead>\n",
       "    <tr style=\"text-align: right;\">\n",
       "      <th></th>\n",
       "      <th>num_preg</th>\n",
       "      <th>glucose_conc</th>\n",
       "      <th>diastolic_bp</th>\n",
       "      <th>thickness</th>\n",
       "      <th>insulin</th>\n",
       "      <th>bmi</th>\n",
       "      <th>diab_pred</th>\n",
       "      <th>age</th>\n",
       "      <th>diabetes</th>\n",
       "    </tr>\n",
       "  </thead>\n",
       "  <tbody>\n",
       "    <tr>\n",
       "      <th>0</th>\n",
       "      <td>6</td>\n",
       "      <td>148</td>\n",
       "      <td>72</td>\n",
       "      <td>35</td>\n",
       "      <td>0</td>\n",
       "      <td>33.6</td>\n",
       "      <td>0.627</td>\n",
       "      <td>50</td>\n",
       "      <td>True</td>\n",
       "    </tr>\n",
       "    <tr>\n",
       "      <th>1</th>\n",
       "      <td>1</td>\n",
       "      <td>85</td>\n",
       "      <td>66</td>\n",
       "      <td>29</td>\n",
       "      <td>0</td>\n",
       "      <td>26.6</td>\n",
       "      <td>0.351</td>\n",
       "      <td>31</td>\n",
       "      <td>False</td>\n",
       "    </tr>\n",
       "    <tr>\n",
       "      <th>2</th>\n",
       "      <td>8</td>\n",
       "      <td>183</td>\n",
       "      <td>64</td>\n",
       "      <td>0</td>\n",
       "      <td>0</td>\n",
       "      <td>23.3</td>\n",
       "      <td>0.672</td>\n",
       "      <td>32</td>\n",
       "      <td>True</td>\n",
       "    </tr>\n",
       "    <tr>\n",
       "      <th>3</th>\n",
       "      <td>1</td>\n",
       "      <td>89</td>\n",
       "      <td>66</td>\n",
       "      <td>23</td>\n",
       "      <td>94</td>\n",
       "      <td>28.1</td>\n",
       "      <td>0.167</td>\n",
       "      <td>21</td>\n",
       "      <td>False</td>\n",
       "    </tr>\n",
       "    <tr>\n",
       "      <th>4</th>\n",
       "      <td>0</td>\n",
       "      <td>137</td>\n",
       "      <td>40</td>\n",
       "      <td>35</td>\n",
       "      <td>168</td>\n",
       "      <td>43.1</td>\n",
       "      <td>2.288</td>\n",
       "      <td>33</td>\n",
       "      <td>True</td>\n",
       "    </tr>\n",
       "  </tbody>\n",
       "</table>\n",
       "</div>"
      ],
      "text/plain": [
       "   num_preg  glucose_conc  diastolic_bp  thickness  insulin   bmi  diab_pred  \\\n",
       "0         6           148            72         35        0  33.6      0.627   \n",
       "1         1            85            66         29        0  26.6      0.351   \n",
       "2         8           183            64          0        0  23.3      0.672   \n",
       "3         1            89            66         23       94  28.1      0.167   \n",
       "4         0           137            40         35      168  43.1      2.288   \n",
       "\n",
       "   age  diabetes  \n",
       "0   50      True  \n",
       "1   31     False  \n",
       "2   32      True  \n",
       "3   21     False  \n",
       "4   33      True  "
      ]
     },
     "execution_count": 13,
     "metadata": {},
     "output_type": "execute_result"
    }
   ],
   "source": [
    "df.head(5)"
   ]
  },
  {
   "cell_type": "markdown",
   "id": "4b186e31",
   "metadata": {},
   "source": [
    "We have numeric data, except for a categorical data for diabetes. This column needs to change to 0 or 1"
   ]
  },
  {
   "cell_type": "code",
   "execution_count": 14,
   "id": "8be36f4b",
   "metadata": {},
   "outputs": [],
   "source": [
    "diabetes_map = {True : 1, False : 0}"
   ]
  },
  {
   "cell_type": "code",
   "execution_count": 15,
   "id": "295c86f9",
   "metadata": {},
   "outputs": [],
   "source": [
    "df['diabetes'] = df['diabetes'].map(diabetes_map)    # to change the values as specified in the map object"
   ]
  },
  {
   "cell_type": "code",
   "execution_count": 16,
   "id": "b4526548",
   "metadata": {},
   "outputs": [
    {
     "data": {
      "text/html": [
       "<div>\n",
       "<style scoped>\n",
       "    .dataframe tbody tr th:only-of-type {\n",
       "        vertical-align: middle;\n",
       "    }\n",
       "\n",
       "    .dataframe tbody tr th {\n",
       "        vertical-align: top;\n",
       "    }\n",
       "\n",
       "    .dataframe thead th {\n",
       "        text-align: right;\n",
       "    }\n",
       "</style>\n",
       "<table border=\"1\" class=\"dataframe\">\n",
       "  <thead>\n",
       "    <tr style=\"text-align: right;\">\n",
       "      <th></th>\n",
       "      <th>num_preg</th>\n",
       "      <th>glucose_conc</th>\n",
       "      <th>diastolic_bp</th>\n",
       "      <th>thickness</th>\n",
       "      <th>insulin</th>\n",
       "      <th>bmi</th>\n",
       "      <th>diab_pred</th>\n",
       "      <th>age</th>\n",
       "      <th>diabetes</th>\n",
       "    </tr>\n",
       "  </thead>\n",
       "  <tbody>\n",
       "    <tr>\n",
       "      <th>0</th>\n",
       "      <td>6</td>\n",
       "      <td>148</td>\n",
       "      <td>72</td>\n",
       "      <td>35</td>\n",
       "      <td>0</td>\n",
       "      <td>33.6</td>\n",
       "      <td>0.627</td>\n",
       "      <td>50</td>\n",
       "      <td>1</td>\n",
       "    </tr>\n",
       "    <tr>\n",
       "      <th>1</th>\n",
       "      <td>1</td>\n",
       "      <td>85</td>\n",
       "      <td>66</td>\n",
       "      <td>29</td>\n",
       "      <td>0</td>\n",
       "      <td>26.6</td>\n",
       "      <td>0.351</td>\n",
       "      <td>31</td>\n",
       "      <td>0</td>\n",
       "    </tr>\n",
       "    <tr>\n",
       "      <th>2</th>\n",
       "      <td>8</td>\n",
       "      <td>183</td>\n",
       "      <td>64</td>\n",
       "      <td>0</td>\n",
       "      <td>0</td>\n",
       "      <td>23.3</td>\n",
       "      <td>0.672</td>\n",
       "      <td>32</td>\n",
       "      <td>1</td>\n",
       "    </tr>\n",
       "    <tr>\n",
       "      <th>3</th>\n",
       "      <td>1</td>\n",
       "      <td>89</td>\n",
       "      <td>66</td>\n",
       "      <td>23</td>\n",
       "      <td>94</td>\n",
       "      <td>28.1</td>\n",
       "      <td>0.167</td>\n",
       "      <td>21</td>\n",
       "      <td>0</td>\n",
       "    </tr>\n",
       "    <tr>\n",
       "      <th>4</th>\n",
       "      <td>0</td>\n",
       "      <td>137</td>\n",
       "      <td>40</td>\n",
       "      <td>35</td>\n",
       "      <td>168</td>\n",
       "      <td>43.1</td>\n",
       "      <td>2.288</td>\n",
       "      <td>33</td>\n",
       "      <td>1</td>\n",
       "    </tr>\n",
       "  </tbody>\n",
       "</table>\n",
       "</div>"
      ],
      "text/plain": [
       "   num_preg  glucose_conc  diastolic_bp  thickness  insulin   bmi  diab_pred  \\\n",
       "0         6           148            72         35        0  33.6      0.627   \n",
       "1         1            85            66         29        0  26.6      0.351   \n",
       "2         8           183            64          0        0  23.3      0.672   \n",
       "3         1            89            66         23       94  28.1      0.167   \n",
       "4         0           137            40         35      168  43.1      2.288   \n",
       "\n",
       "   age  diabetes  \n",
       "0   50         1  \n",
       "1   31         0  \n",
       "2   32         1  \n",
       "3   21         0  \n",
       "4   33         1  "
      ]
     },
     "execution_count": 16,
     "metadata": {},
     "output_type": "execute_result"
    }
   ],
   "source": [
    "df.head(5)      # Check to see if the diabetes column change to 0 or 1"
   ]
  },
  {
   "cell_type": "markdown",
   "id": "70faf4a7",
   "metadata": {},
   "source": [
    "Check true/false ratio"
   ]
  },
  {
   "cell_type": "code",
   "execution_count": 17,
   "id": "d062f098",
   "metadata": {},
   "outputs": [],
   "source": [
    "num_true = len(df.loc[df['diabetes'] == True])\n",
    "num_false = len(df.loc[df['diabetes'] == False])"
   ]
  },
  {
   "cell_type": "code",
   "execution_count": 18,
   "id": "ec4df266",
   "metadata": {},
   "outputs": [
    {
     "name": "stdout",
     "output_type": "stream",
     "text": [
      "Number of True cases: 268 (34.90%)\n",
      "Number of False cases: 268 (65.10%)\n"
     ]
    }
   ],
   "source": [
    "print(\"Number of True cases: {0} ({1:2.2f}%)\".format(num_true, (num_true/ (num_true + num_false)) * 100))\n",
    "print(\"Number of False cases: {0} ({1:2.2f}%)\".format(num_true, (num_false/ (num_true + num_false)) * 100))"
   ]
  },
  {
   "cell_type": "markdown",
   "id": "b8be9fbf",
   "metadata": {},
   "source": [
    "With 35% True and 65% false standard prediction techniques can be used"
   ]
  },
  {
   "cell_type": "markdown",
   "id": "8160e901",
   "metadata": {},
   "source": [
    "### Selecting an Algorithm\n",
    "\n",
    "Review the Objective statement for the Machine Learning Project:\n",
    "\n",
    "\"Use the Machine Learning Workflow to process and trensform Pima Indian data to cre a *prediction model*. This model must predict which people are likely to develop diabetes with *70% or greater accuracy*.\""
   ]
  },
  {
   "cell_type": "markdown",
   "id": "b0be5db9",
   "metadata": {},
   "source": [
    "This statement suggests a Prediction Model => Supervised machine learning"
   ]
  },
  {
   "cell_type": "markdown",
   "id": "3279db2a",
   "metadata": {},
   "source": [
    "Based on the result type, we have two options Regression or classification"
   ]
  },
  {
   "cell_type": "markdown",
   "id": "a25b239d",
   "metadata": {},
   "source": [
    "The regression result has continuous values, where as Classification has discrete values (e.g., small, medion, large)"
   ]
  },
  {
   "cell_type": "markdown",
   "id": "7a24c8b1",
   "metadata": {},
   "source": [
    "Based on the requirement \"..predict which people are likely to develop diabetes...\" The result type is Binary (True / False). Consequently, the algorithm must support classification (binary classification). That narrows the number of algirthms to 20"
   ]
  },
  {
   "cell_type": "markdown",
   "id": "7c3a32d5",
   "metadata": {},
   "source": [
    "Based on complexisty we have a choiuce of Basic (keep it simple) vs Enhanced algorithms (\"Ensemble algorithms\" with a container algorithm, multiple child algorithms and Boost performance. These to be very complex)"
   ]
  },
  {
   "cell_type": "markdown",
   "id": "63c05905",
   "metadata": {},
   "source": [
    "Candidate algorithms are \n",
    "  Naive Bayes (Based on likelihood and probability-assumes each feature variable has the same weight. It requires a small\n",
    "               amount of data to train the model)\n",
    "  Logistic Regression (Returns a binary result; the relationship to features are weighted)\n",
    "  Decision Tree (Uses a Binary Tree, each Node contains a decision; requires enough data to determine nodes and splits)"
   ]
  },
  {
   "cell_type": "markdown",
   "id": "7b1157fc",
   "metadata": {},
   "source": [
    "Lets select \"Naibe Bayes\" because:\n",
    "  Simple - easy to understand\n",
    "  Fast - up to 100x faster\n",
    "  The algirithm is Stable to data changes\n",
    "  "
   ]
  },
  {
   "cell_type": "markdown",
   "id": "52c19d35",
   "metadata": {},
   "source": [
    "### Training the Model Overview\n",
    "\n",
    "Split the PREPARED DATA into a Training Dataset (70%) and a Testing dataset (30%)"
   ]
  },
  {
   "cell_type": "markdown",
   "id": "1ae5fb7d",
   "metadata": {},
   "source": [
    "The sckit-learn library will be used to perform our predictions. It has the following features:\n",
    "  Designed to work with mumpy, scipy, and pandas\n",
    "  Toolset for training and evaluation tasks:\n",
    "    Data splitting\n",
    "    Pre-Processing\n",
    "    Feature selection\n",
    "    Model training\n",
    "    Model tuning\n",
    "   Common interface across algorithms"
   ]
  },
  {
   "cell_type": "markdown",
   "id": "1a7c7e7a",
   "metadata": {},
   "source": [
    "### Splitting the data\n",
    "\n",
    "70% for training, and 30% for testing"
   ]
  },
  {
   "cell_type": "code",
   "execution_count": 19,
   "id": "0b2572fb",
   "metadata": {},
   "outputs": [],
   "source": [
    "from sklearn.model_selection import train_test_split\n",
    "\n",
    "feature_col_names = ['num_preg', 'glucose_conc', 'diastolic_bp', 'thickness', 'insulin', 'bmi', 'diab_pred', 'age']\n",
    "predicted_class_names = ['diabetes']\n",
    "\n",
    "x = df[feature_col_names].values                 # predictor feature columns (8 X m)\n",
    "y = df[predicted_class_names]. values            # predicted class (1=true, 0=false) column (1 X m)\n",
    "split_test_size = 0.30\n",
    "\n",
    "x_train, x_test, y_train, y_test = train_test_split(x, y, test_size=split_test_size, random_state=42)\n",
    "                                   # test_size = 0.3 is 30%, 42 is the answer to everything (seed for random generation)"
   ]
  },
  {
   "cell_type": "markdown",
   "id": "f4e6b6fc",
   "metadata": {},
   "source": [
    "Check to ensure we have the desired 70% traing, 30% test split of the data"
   ]
  },
  {
   "cell_type": "code",
   "execution_count": 20,
   "id": "5aa470bd",
   "metadata": {},
   "outputs": [
    {
     "name": "stdout",
     "output_type": "stream",
     "text": [
      "69.92% in training set\n",
      "30.08% in test set\n"
     ]
    }
   ],
   "source": [
    "print(\"{0:0.2f}% in training set\".format((len(x_train)/len(df.index)) * 100))\n",
    "print(\"{0:0.2f}% in test set\".format((len(x_test)/len(df.index)) * 100))"
   ]
  },
  {
   "cell_type": "markdown",
   "id": "7d75d1c5",
   "metadata": {},
   "source": [
    "### Verify that predicted values was split correctly"
   ]
  },
  {
   "cell_type": "code",
   "execution_count": 21,
   "id": "6081af0c",
   "metadata": {},
   "outputs": [
    {
     "name": "stdout",
     "output_type": "stream",
     "text": [
      "Original True  : 268 (34.90%)\n",
      "Original False : 500 (65.10%)\n",
      "\n",
      "Training True  : 188 (35.01%)\n",
      "Training False : 349 (64.99%)\n",
      "\n",
      "Test True  : 80 (34.63%)\n",
      "Test False : 151 (65.37%)\n"
     ]
    }
   ],
   "source": [
    "print(\"Original True  : {0} ({1:0.2f}%)\".format(len(df.loc[df['diabetes'] == 1]), (len(df.loc[df['diabetes'] == 1])/len(df.index)* 100)))\n",
    "print(\"Original False : {0} ({1:0.2f}%)\".format(len(df.loc[df['diabetes'] == 0]), (len(df.loc[df['diabetes'] == 0])/len(df.index)* 100)))\n",
    "print(\"\")\n",
    "print(\"Training True  : {0} ({1:0.2f}%)\".format(len(y_train[y_train[:] == 1]), (len(y_train[y_train[:] == 1])/len(y_train)* 100)))\n",
    "print(\"Training False : {0} ({1:0.2f}%)\".format(len(y_train[y_train[:] == 0]), (len(y_train[y_train[:] == 0])/len(y_train)* 100)))\n",
    "print(\"\")\n",
    "print(\"Test True  : {0} ({1:0.2f}%)\".format(len(y_test[y_test[:] == 1]), (len(y_test[y_test[:] == 1])/len(y_test)* 100)))\n",
    "print(\"Test False : {0} ({1:0.2f}%)\".format(len(y_test[y_test[:] == 0]), (len(y_test[y_test[:] == 0])/len(y_test)* 100)))\n"
   ]
  },
  {
   "cell_type": "markdown",
   "id": "f9c78560",
   "metadata": {},
   "source": [
    "The propertions between the original, traing and test datasets has been maintained; therefore, we can proceed"
   ]
  },
  {
   "cell_type": "markdown",
   "id": "25d5570f",
   "metadata": {},
   "source": [
    "### Post-split Data Preparation"
   ]
  },
  {
   "cell_type": "markdown",
   "id": "b5853ca7",
   "metadata": {},
   "source": [
    "#### Hidden Missing Values\n"
   ]
  },
  {
   "cell_type": "code",
   "execution_count": 22,
   "id": "ff373430",
   "metadata": {},
   "outputs": [
    {
     "data": {
      "text/html": [
       "<div>\n",
       "<style scoped>\n",
       "    .dataframe tbody tr th:only-of-type {\n",
       "        vertical-align: middle;\n",
       "    }\n",
       "\n",
       "    .dataframe tbody tr th {\n",
       "        vertical-align: top;\n",
       "    }\n",
       "\n",
       "    .dataframe thead th {\n",
       "        text-align: right;\n",
       "    }\n",
       "</style>\n",
       "<table border=\"1\" class=\"dataframe\">\n",
       "  <thead>\n",
       "    <tr style=\"text-align: right;\">\n",
       "      <th></th>\n",
       "      <th>num_preg</th>\n",
       "      <th>glucose_conc</th>\n",
       "      <th>diastolic_bp</th>\n",
       "      <th>thickness</th>\n",
       "      <th>insulin</th>\n",
       "      <th>bmi</th>\n",
       "      <th>diab_pred</th>\n",
       "      <th>age</th>\n",
       "      <th>diabetes</th>\n",
       "    </tr>\n",
       "  </thead>\n",
       "  <tbody>\n",
       "    <tr>\n",
       "      <th>0</th>\n",
       "      <td>6</td>\n",
       "      <td>148</td>\n",
       "      <td>72</td>\n",
       "      <td>35</td>\n",
       "      <td>0</td>\n",
       "      <td>33.6</td>\n",
       "      <td>0.627</td>\n",
       "      <td>50</td>\n",
       "      <td>1</td>\n",
       "    </tr>\n",
       "    <tr>\n",
       "      <th>1</th>\n",
       "      <td>1</td>\n",
       "      <td>85</td>\n",
       "      <td>66</td>\n",
       "      <td>29</td>\n",
       "      <td>0</td>\n",
       "      <td>26.6</td>\n",
       "      <td>0.351</td>\n",
       "      <td>31</td>\n",
       "      <td>0</td>\n",
       "    </tr>\n",
       "    <tr>\n",
       "      <th>2</th>\n",
       "      <td>8</td>\n",
       "      <td>183</td>\n",
       "      <td>64</td>\n",
       "      <td>0</td>\n",
       "      <td>0</td>\n",
       "      <td>23.3</td>\n",
       "      <td>0.672</td>\n",
       "      <td>32</td>\n",
       "      <td>1</td>\n",
       "    </tr>\n",
       "    <tr>\n",
       "      <th>3</th>\n",
       "      <td>1</td>\n",
       "      <td>89</td>\n",
       "      <td>66</td>\n",
       "      <td>23</td>\n",
       "      <td>94</td>\n",
       "      <td>28.1</td>\n",
       "      <td>0.167</td>\n",
       "      <td>21</td>\n",
       "      <td>0</td>\n",
       "    </tr>\n",
       "    <tr>\n",
       "      <th>4</th>\n",
       "      <td>0</td>\n",
       "      <td>137</td>\n",
       "      <td>40</td>\n",
       "      <td>35</td>\n",
       "      <td>168</td>\n",
       "      <td>43.1</td>\n",
       "      <td>2.288</td>\n",
       "      <td>33</td>\n",
       "      <td>1</td>\n",
       "    </tr>\n",
       "  </tbody>\n",
       "</table>\n",
       "</div>"
      ],
      "text/plain": [
       "   num_preg  glucose_conc  diastolic_bp  thickness  insulin   bmi  diab_pred  \\\n",
       "0         6           148            72         35        0  33.6      0.627   \n",
       "1         1            85            66         29        0  26.6      0.351   \n",
       "2         8           183            64          0        0  23.3      0.672   \n",
       "3         1            89            66         23       94  28.1      0.167   \n",
       "4         0           137            40         35      168  43.1      2.288   \n",
       "\n",
       "   age  diabetes  \n",
       "0   50         1  \n",
       "1   31         0  \n",
       "2   32         1  \n",
       "3   21         0  \n",
       "4   33         1  "
      ]
     },
     "execution_count": 22,
     "metadata": {},
     "output_type": "execute_result"
    }
   ],
   "source": [
    "df.head()"
   ]
  },
  {
   "cell_type": "markdown",
   "id": "75ca7e4e",
   "metadata": {},
   "source": [
    "Notice. On the 3rd row thickness has a value 0; 0 was entered for a missing value"
   ]
  },
  {
   "cell_type": "markdown",
   "id": "f204d1eb",
   "metadata": {},
   "source": [
    "How many rows have unexpected 0 values (missing or null values)"
   ]
  },
  {
   "cell_type": "code",
   "execution_count": 23,
   "id": "3b1a41d3",
   "metadata": {},
   "outputs": [
    {
     "name": "stdout",
     "output_type": "stream",
     "text": [
      "# rows in dataframe 768\n",
      "#rows missing glucose_con: 5\n",
      "#rows missing diastolic_bp: 35\n",
      "#rows missing thickness: 227\n",
      "#rows missing insulin: 374\n",
      "#rows missing bmi: 11\n",
      "#rows missing diab_pred: 0\n",
      "#rows missing age: 0\n"
     ]
    }
   ],
   "source": [
    "print(\"# rows in dataframe {0}\".format(len(df)))\n",
    "print(\"#rows missing glucose_con: {0}\".format(len(df.loc[df['glucose_conc'] == 0])))\n",
    "print(\"#rows missing diastolic_bp: {0}\".format(len(df.loc[df['diastolic_bp'] == 0])))\n",
    "print(\"#rows missing thickness: {0}\".format(len(df.loc[df['thickness'] == 0])))\n",
    "print(\"#rows missing insulin: {0}\".format(len(df.loc[df['insulin'] == 0])))\n",
    "print(\"#rows missing bmi: {0}\".format(len(df.loc[df['bmi'] == 0])))\n",
    "print(\"#rows missing diab_pred: {0}\".format(len(df.loc[df['diab_pred'] == 0])))\n",
    "print(\"#rows missing age: {0}\".format(len(df.loc[df['age'] == 0])))"
   ]
  },
  {
   "cell_type": "markdown",
   "id": "2698fb93",
   "metadata": {},
   "source": [
    "#### What do we do about the miising values:\n",
    " \n",
    "It is a common problem\n",
    "Options:\n",
    "  - Ignore\n",
    "  - Drop observations (rows)\n",
    "  - Replace values (Imput - entering some resonable value like: mean or median)\n",
    " \n",
    " Data numbers\n",
    "  - 768 Rows\n",
    "  - 374 missing insulin values\n",
    "  - Can we igonre/delete almost 50% of the data? - Most likely NO\n",
    "  - That means we need to replace thosse 0 forwith something"
   ]
  },
  {
   "cell_type": "markdown",
   "id": "6e70d40b",
   "metadata": {},
   "source": [
    "#### Impute with the mean"
   ]
  },
  {
   "cell_type": "code",
   "execution_count": 24,
   "id": "8d9500a1",
   "metadata": {},
   "outputs": [],
   "source": [
    "# from sklearn.preprocessing import Imputer   # Has been Deprecated\n",
    "from sklearn.impute import SimpleImputer\n",
    "\n",
    "#Impute with mean all 0 readings\n",
    "\n",
    "# fill_0 = SimpleImputer(missing_values=0, strategy=\"mean\", axis=0)   # SimpleImputer does not have \"axis\" parameter\n",
    "fill_0 = SimpleImputer(missing_values=0, strategy=\"mean\")"
   ]
  },
  {
   "cell_type": "code",
   "execution_count": 25,
   "id": "e9b270a6",
   "metadata": {},
   "outputs": [],
   "source": [
    "x_train = fill_0.fit_transform(x_train)\n",
    "x_test = fill_0.fit_transform(x_test)"
   ]
  },
  {
   "cell_type": "markdown",
   "id": "39b04d6c",
   "metadata": {},
   "source": [
    "### Training Initial Algorithm - Naive Bayes"
   ]
  },
  {
   "cell_type": "code",
   "execution_count": 26,
   "id": "d9fcc74c",
   "metadata": {},
   "outputs": [
    {
     "data": {
      "text/html": [
       "<style>#sk-container-id-1 {color: black;background-color: white;}#sk-container-id-1 pre{padding: 0;}#sk-container-id-1 div.sk-toggleable {background-color: white;}#sk-container-id-1 label.sk-toggleable__label {cursor: pointer;display: block;width: 100%;margin-bottom: 0;padding: 0.3em;box-sizing: border-box;text-align: center;}#sk-container-id-1 label.sk-toggleable__label-arrow:before {content: \"▸\";float: left;margin-right: 0.25em;color: #696969;}#sk-container-id-1 label.sk-toggleable__label-arrow:hover:before {color: black;}#sk-container-id-1 div.sk-estimator:hover label.sk-toggleable__label-arrow:before {color: black;}#sk-container-id-1 div.sk-toggleable__content {max-height: 0;max-width: 0;overflow: hidden;text-align: left;background-color: #f0f8ff;}#sk-container-id-1 div.sk-toggleable__content pre {margin: 0.2em;color: black;border-radius: 0.25em;background-color: #f0f8ff;}#sk-container-id-1 input.sk-toggleable__control:checked~div.sk-toggleable__content {max-height: 200px;max-width: 100%;overflow: auto;}#sk-container-id-1 input.sk-toggleable__control:checked~label.sk-toggleable__label-arrow:before {content: \"▾\";}#sk-container-id-1 div.sk-estimator input.sk-toggleable__control:checked~label.sk-toggleable__label {background-color: #d4ebff;}#sk-container-id-1 div.sk-label input.sk-toggleable__control:checked~label.sk-toggleable__label {background-color: #d4ebff;}#sk-container-id-1 input.sk-hidden--visually {border: 0;clip: rect(1px 1px 1px 1px);clip: rect(1px, 1px, 1px, 1px);height: 1px;margin: -1px;overflow: hidden;padding: 0;position: absolute;width: 1px;}#sk-container-id-1 div.sk-estimator {font-family: monospace;background-color: #f0f8ff;border: 1px dotted black;border-radius: 0.25em;box-sizing: border-box;margin-bottom: 0.5em;}#sk-container-id-1 div.sk-estimator:hover {background-color: #d4ebff;}#sk-container-id-1 div.sk-parallel-item::after {content: \"\";width: 100%;border-bottom: 1px solid gray;flex-grow: 1;}#sk-container-id-1 div.sk-label:hover label.sk-toggleable__label {background-color: #d4ebff;}#sk-container-id-1 div.sk-serial::before {content: \"\";position: absolute;border-left: 1px solid gray;box-sizing: border-box;top: 0;bottom: 0;left: 50%;z-index: 0;}#sk-container-id-1 div.sk-serial {display: flex;flex-direction: column;align-items: center;background-color: white;padding-right: 0.2em;padding-left: 0.2em;position: relative;}#sk-container-id-1 div.sk-item {position: relative;z-index: 1;}#sk-container-id-1 div.sk-parallel {display: flex;align-items: stretch;justify-content: center;background-color: white;position: relative;}#sk-container-id-1 div.sk-item::before, #sk-container-id-1 div.sk-parallel-item::before {content: \"\";position: absolute;border-left: 1px solid gray;box-sizing: border-box;top: 0;bottom: 0;left: 50%;z-index: -1;}#sk-container-id-1 div.sk-parallel-item {display: flex;flex-direction: column;z-index: 1;position: relative;background-color: white;}#sk-container-id-1 div.sk-parallel-item:first-child::after {align-self: flex-end;width: 50%;}#sk-container-id-1 div.sk-parallel-item:last-child::after {align-self: flex-start;width: 50%;}#sk-container-id-1 div.sk-parallel-item:only-child::after {width: 0;}#sk-container-id-1 div.sk-dashed-wrapped {border: 1px dashed gray;margin: 0 0.4em 0.5em 0.4em;box-sizing: border-box;padding-bottom: 0.4em;background-color: white;}#sk-container-id-1 div.sk-label label {font-family: monospace;font-weight: bold;display: inline-block;line-height: 1.2em;}#sk-container-id-1 div.sk-label-container {text-align: center;}#sk-container-id-1 div.sk-container {/* jupyter's `normalize.less` sets `[hidden] { display: none; }` but bootstrap.min.css set `[hidden] { display: none !important; }` so we also need the `!important` here to be able to override the default hidden behavior on the sphinx rendered scikit-learn.org. See: https://github.com/scikit-learn/scikit-learn/issues/21755 */display: inline-block !important;position: relative;}#sk-container-id-1 div.sk-text-repr-fallback {display: none;}</style><div id=\"sk-container-id-1\" class=\"sk-top-container\"><div class=\"sk-text-repr-fallback\"><pre>GaussianNB()</pre><b>In a Jupyter environment, please rerun this cell to show the HTML representation or trust the notebook. <br />On GitHub, the HTML representation is unable to render, please try loading this page with nbviewer.org.</b></div><div class=\"sk-container\" hidden><div class=\"sk-item\"><div class=\"sk-estimator sk-toggleable\"><input class=\"sk-toggleable__control sk-hidden--visually\" id=\"sk-estimator-id-1\" type=\"checkbox\" checked><label for=\"sk-estimator-id-1\" class=\"sk-toggleable__label sk-toggleable__label-arrow\">GaussianNB</label><div class=\"sk-toggleable__content\"><pre>GaussianNB()</pre></div></div></div></div></div>"
      ],
      "text/plain": [
       "GaussianNB()"
      ]
     },
     "execution_count": 26,
     "metadata": {},
     "output_type": "execute_result"
    }
   ],
   "source": [
    "from sklearn.naive_bayes import GaussianNB\n",
    "\n",
    "# create Gaussian Naive Bayes model object and train it with data\n",
    "nb_model = GaussianNB()      # The Gaussian curbe looks like the normal bell curbe with most of the data around the mean\n",
    "\n",
    "nb_model.fit(x_train, y_train.ravel())"
   ]
  },
  {
   "cell_type": "markdown",
   "id": "51d90395",
   "metadata": {},
   "source": [
    "The Naive Baysean model has been created and trained"
   ]
  },
  {
   "cell_type": "markdown",
   "id": "76c378d8",
   "metadata": {},
   "source": [
    "### Performance on Training Data"
   ]
  },
  {
   "cell_type": "code",
   "execution_count": 27,
   "id": "e1da7b6d",
   "metadata": {},
   "outputs": [
    {
     "name": "stdout",
     "output_type": "stream",
     "text": [
      "Accuracy: 0.7542\n"
     ]
    }
   ],
   "source": [
    "# Predict values using the training data\n",
    "nb_predict_train = nb_model.predict(x_train)\n",
    "\n",
    "# import the performance metrics library\n",
    "from sklearn import metrics\n",
    "\n",
    "# Accuracy\n",
    "print(\"Accuracy: {0:.4f}\".format(metrics.accuracy_score(y_train, nb_predict_train)))"
   ]
  },
  {
   "cell_type": "markdown",
   "id": "37ff8b68",
   "metadata": {},
   "source": [
    "### Performance on Testing Data"
   ]
  },
  {
   "cell_type": "code",
   "execution_count": 28,
   "id": "26ba4a9d",
   "metadata": {},
   "outputs": [
    {
     "name": "stdout",
     "output_type": "stream",
     "text": [
      "Accuracy 0.7359\n"
     ]
    }
   ],
   "source": [
    "nb_predict_test = nb_model.predict(x_test)\n",
    "\n",
    "from sklearn import metrics\n",
    "\n",
    "# training metrics\n",
    "print(\"Accuracy {0:.4f}\".format(metrics.accuracy_score(y_test, nb_predict_test)))"
   ]
  },
  {
   "cell_type": "markdown",
   "id": "e221b65d",
   "metadata": {},
   "source": [
    "### Metrics related to evaluation\n",
    "The Goal was to predict diabetes with a 70% accuracy or greater"
   ]
  },
  {
   "cell_type": "code",
   "execution_count": 29,
   "id": "8409b216",
   "metadata": {},
   "outputs": [
    {
     "name": "stdout",
     "output_type": "stream",
     "text": [
      "Confusion Matrix\n",
      "[[118  33]\n",
      " [ 28  52]]\n",
      "\n",
      "Classification Report\n",
      "              precision    recall  f1-score   support\n",
      "\n",
      "           0       0.81      0.78      0.79       151\n",
      "           1       0.61      0.65      0.63        80\n",
      "\n",
      "    accuracy                           0.74       231\n",
      "   macro avg       0.71      0.72      0.71       231\n",
      "weighted avg       0.74      0.74      0.74       231\n",
      "\n"
     ]
    }
   ],
   "source": [
    "print(\"Confusion Matrix\")\n",
    "print(\"{0}\".format(metrics.confusion_matrix(y_test, nb_predict_test)))\n",
    "print(\"\")\n",
    "\n",
    "print(\"Classification Report\")\n",
    "print(metrics.classification_report(y_test, nb_predict_test))"
   ]
  },
  {
   "cell_type": "markdown",
   "id": "d826706e",
   "metadata": {},
   "source": [
    "The confusion metrix shows 28 False Negatives and 33 False Positives. Ideally we would like to se both of these vales to be 0\n",
    "Recall - Is the True Positive, the value in this case is 0.65 or 65% Recall = (TP / (TP + FN) - Ideally it should be 70% or greater\n",
    "Precision - Defined as Precision = TP / (TP + FP) in our case is 0.61 or 61%"
   ]
  },
  {
   "cell_type": "markdown",
   "id": "b53dcc8f",
   "metadata": {},
   "source": [
    "A way to improve the model is to use Hyperparameters but the Naive Bayes model does not suppor them\n",
    "Another way is to get more data or improve the data\n",
    "Another way is to improve training\n",
    "Final option is to select another algorithm that works better with the data available"
   ]
  },
  {
   "cell_type": "markdown",
   "id": "bcd2eef3",
   "metadata": {},
   "source": [
    "### Chosing another Algorithm\n",
    "\n",
    "Lets use Random Forest \n",
    "- Its is based on Decision Trees\n",
    "- It is an Ensemble Algorithm'- Fits multiple trees with subsets of data\n",
    "- Averages tree results to improve performance abd control overfiting"
   ]
  },
  {
   "cell_type": "markdown",
   "id": "eb9bbe84",
   "metadata": {},
   "source": [
    "## Random Forest"
   ]
  },
  {
   "cell_type": "code",
   "execution_count": 37,
   "id": "03e36c44",
   "metadata": {},
   "outputs": [],
   "source": [
    "from sklearn.ensemble import RandomForestClassifier\n",
    "from sklearn.metrics import confusion_matrix, classification_report\n",
    "from sklearn.metrics import precision_score, recall_score\n",
    "from sklearn.metrics import ConfusionMatrixDisplay\n",
    "from sklearn.metrics import roc_curve, roc_auc_score\n",
    "from sklearn.model_selection import cross_val_score\n",
    "#rf_model = RandomForestClassifier(random_state=42)       # Create the random foest object\n",
    "#rf_model.fit(x_train, y_train.ravel())"
   ]
  },
  {
   "cell_type": "code",
   "execution_count": 31,
   "id": "4060ed5e",
   "metadata": {},
   "outputs": [],
   "source": [
    "# redefining x and y\n",
    "\n",
    "x = df[feature_col_names].values                 # predictor feature columns (8 X m)\n",
    "y = df[predicted_class_names]. values            # predicted class (1=true, 0=false) column (1 X m)"
   ]
  },
  {
   "cell_type": "code",
   "execution_count": 32,
   "id": "d0e01a95",
   "metadata": {},
   "outputs": [],
   "source": [
    "# redefining testing data sets using raw data sets\n",
    "# creating x test, x train and y test\n",
    "X_train, X_test, y_train, y_test = train_test_split(x, y, test_size = 0.30, random_state = 42)"
   ]
  },
  {
   "cell_type": "code",
   "execution_count": 33,
   "id": "006dcc0c",
   "metadata": {},
   "outputs": [],
   "source": [
    "def modeltraintest(vartrain, vartest, y_train, y_test, model):\n",
    "#Fit the model\n",
    "    model.fit(vartrain, y_train)\n",
    "#Predict with the model\n",
    "    model_pred = model.predict(vartest)\n",
    "    model_prob = model.predict_proba(vartest)\n",
    "#Assess with the model\n",
    "    score = model.score(vartest, y_test)\n",
    "    print('XXXXXXXXXXXXXXXX ACCURACY SCORE XXXXXXXXXXXXXXXXXX')\n",
    "    print(round(score, 6))\n",
    "    print(\"\")\n",
    "    print('XXXXXXXXXXXXXXXX CONFUSION MATRIX XXXXXXXXXXXXXXXX')\n",
    "    print(confusion_matrix(y_test, model_pred))\n",
    "    print(\"\")\n",
    "    print('XXXXXXXXXXXXXX CLASSIFICATION REPORT XXXXXXXXXXXXXX')\n",
    "    print(classification_report(y_test, model_pred))\n",
    "    print('')\n",
    "    print('XXXXXXXXXXXXXX ROC AUC SCORE AND CHART XXXXXXXXXXXXXXXXXX')\n",
    "    print('')\n",
    "    y_pred_prob = model.predict_proba(vartest)[:,1]\n",
    "    fpr, tpr, thresholds = roc_curve(y_test, y_pred_prob)\n",
    "    plt.plot([0, 1], [0, 1],'k--')\n",
    "    plt.plot(fpr, tpr, label='Model')\n",
    "    plt.xlabel('False Positive Rate')\n",
    "    plt.ylabel('True Positive Rate')\n",
    "    plt.title('ROC AUC Curve')\n",
    "    plt.show();\n",
    "# calculate roc curve\n",
    "    y_pred_prob = model.predict_proba(vartest)[:,1]\n",
    "    fpr, tpr, thresholds = roc_curve(y_test, y_pred_prob)\n",
    "    roc_auc = roc_auc_score(y_test, y_pred_prob)\n",
    "    roc_auc_format = 'ROC AUC Score: {0:.4f}'.format(roc_auc)\n",
    "    print(roc_auc_format)\n",
    "    print('')\n",
    "    print('XXXXXXXXXXXXXX CROSS VALIDATION XXXXXXXXXXXXXXXXXX')\n",
    "    print('')\n",
    "    cv_scores = cross_val_score(model, vartrain, y_train, cv=5,\n",
    "    scoring='accuracy')\n",
    "    print('CV Accuracy Scores:')\n",
    "    print(cv_scores)\n",
    "    print('')\n",
    "    cv_rocauc = cross_val_score(model, vartrain, y_train, cv=5,\n",
    "    scoring='roc_auc')\n",
    "    print('CV ROC AUC:')\n",
    "    print(cv_rocauc)\n",
    "    print('')\n",
    "    print('XXXXXXXXXXXXXXXXXXXXXXXXXXXXXXXXXXXXXXXXXXXXXXXXXX')"
   ]
  },
  {
   "cell_type": "code",
   "execution_count": 38,
   "id": "901c4173",
   "metadata": {},
   "outputs": [
    {
     "name": "stdout",
     "output_type": "stream",
     "text": [
      "ROC AUC Score: 0.8070\n",
      "\n"
     ]
    }
   ],
   "source": [
    "# defining shorttraintest variable\n",
    "\n",
    "\n",
    "def shorttraintest(vartrain, vartest, y_train, y_test, model):\n",
    "\n",
    "    #Fit the model\n",
    "    model.fit(vartrain, y_train)\n",
    "\n",
    "    #Predict with the model\n",
    "\n",
    "    model_pred = model.predict(vartest)\n",
    "\n",
    "    model_prob = model.predict_proba(vartest)\n",
    "\n",
    "    print('Confusion Matrix:')\n",
    "\n",
    "    print(confusion_matrix(y_test, model_pred))\n",
    "\n",
    "    print(\"\")\n",
    "\n",
    "    #Assess with the model\n",
    "\n",
    "    score = model.score(vartest, y_test)\n",
    "\n",
    "    score_format = 'Accuracy Score: {0:.4f}'.format(score)\n",
    "\n",
    "    print(score_format)\n",
    "\n",
    "    recall = recall_score(y_test, model_pred)\n",
    "\n",
    "    recall_format = 'Recall Score: {0:.4f}'.format(recall)\n",
    "\n",
    "    print(recall_format)\n",
    "\n",
    "    precision = precision_score(y_test, model_pred)\n",
    "\n",
    "    precision_format = 'Precision Score: {0:.4f}'.format(precision)\n",
    "\n",
    "    print(precision_format)\n",
    "# calculate roc curve\n",
    "\n",
    "y_pred_prob = model.predict_proba(vartest)[:,1]\n",
    "fpr, tpr, thresholds = roc_curve(y_test, y_pred_prob)\n",
    "roc_auc = roc_auc_score(y_test, y_pred_prob)\n",
    "roc_auc_format = 'ROC AUC Score: {0:.4f}'.format(roc_auc)\n",
    "print(roc_auc_format)\n",
    "print('')"
   ]
  },
  {
   "cell_type": "code",
   "execution_count": 39,
   "id": "1f4988bd",
   "metadata": {},
   "outputs": [
    {
     "name": "stdout",
     "output_type": "stream",
     "text": [
      "iteration 6 done. Accuracy = 0.7359307359307359\n",
      "iteration 8 done. Accuracy = 0.7489177489177489\n",
      "iteration 10 done. Accuracy = 0.7402597402597403\n",
      "iteration 12 done. Accuracy = 0.7359307359307359\n",
      "iteration 14 done. Accuracy = 0.7575757575757576\n",
      "iteration 16 done. Accuracy = 0.7575757575757576\n",
      "iteration 17 done. Accuracy = 0.7489177489177489\n",
      "iteration 18 done. Accuracy = 0.7532467532467533\n",
      "iteration 19 done. Accuracy = 0.7445887445887446\n",
      "iteration 20 done. Accuracy = 0.7532467532467533\n",
      "iteration 21 done. Accuracy = 0.7532467532467533\n",
      "iteration 22 done. Accuracy = 0.7532467532467533\n",
      "iteration 23 done. Accuracy = 0.7532467532467533\n",
      "iteration 30 done. Accuracy = 0.7532467532467533\n"
     ]
    },
    {
     "data": {
      "image/png": "[encoded data removed]",
      "text/plain": [
       "<Figure size 640x480 with 1 Axes>"
      ]
     },
     "metadata": {},
     "output_type": "display_data"
    }
   ],
   "source": [
    "# checking depth for most accurate setting for the optimal model\n",
    "#depth = range(6,25)\n",
    "#Chose to use a list instead of a rnage\n",
    "depth = [6, 8, 10, 12, 14, 16, 17, 18, 19, 20, 21, 22, 23, 30]\n",
    "#Creates an empty list\n",
    "scores = []\n",
    "for d in depth:\n",
    "\n",
    "    classifier=RandomForestClassifier(max_depth = d, random_state = 21)\n",
    "    classifier=classifier.fit(X_train,y_train)\n",
    "    score = classifier.score(X_test, y_test)\n",
    "    scores.append(classifier.score(X_test, y_test))\n",
    "    print(\"iteration {} done. Accuracy = \".format(d) + str(score))\n",
    "    \n",
    "plt.plot(depth, scores, '-o')\n",
    "plt.xlabel('depth, d')\n",
    "plt.ylabel('scores')\n",
    "plt.xticks(depth)\n",
    "plt.show()"
   ]
  },
  {
   "cell_type": "code",
   "execution_count": 40,
   "id": "a13968ed",
   "metadata": {},
   "outputs": [
    {
     "name": "stdout",
     "output_type": "stream",
     "text": [
      "Confusion Matrix:\n",
      "[[122  29]\n",
      " [ 27  53]]\n",
      "\n",
      "Accuracy Score: 0.7576\n",
      "Recall Score: 0.6625\n",
      "Precision Score: 0.6463\n"
     ]
    }
   ],
   "source": [
    "#Optimal Model\n",
    "# running radom forest model with max depth of 16 because it provided the maximum accuracy score. data may change when script is ran again.\n",
    "vartrain = X_train\n",
    "vartest = X_test\n",
    "model = RandomForestClassifier(max_depth=16, random_state=21)\n",
    "shorttraintest(vartrain, vartest, y_train, y_test, model)"
   ]
  },
  {
   "cell_type": "code",
   "execution_count": 41,
   "id": "819e0d85",
   "metadata": {},
   "outputs": [
    {
     "name": "stdout",
     "output_type": "stream",
     "text": [
      "iteration 1 done. Accuracy = 0.7316017316017316\n",
      "iteration 2 done. Accuracy = 0.7445887445887446\n",
      "iteration 3 done. Accuracy = 0.7402597402597403\n",
      "iteration 4 done. Accuracy = 0.7445887445887446\n",
      "iteration 5 done. Accuracy = 0.7489177489177489\n",
      "iteration 6 done. Accuracy = 0.7402597402597403\n",
      "iteration 7 done. Accuracy = 0.7316017316017316\n",
      "iteration 8 done. Accuracy = 0.7316017316017316\n",
      "iteration 9 done. Accuracy = 0.7316017316017316\n",
      "iteration 10 done. Accuracy = 0.7316017316017316\n",
      "iteration 11 done. Accuracy = 0.7316017316017316\n",
      "iteration 12 done. Accuracy = 0.7316017316017316\n",
      "iteration 13 done. Accuracy = 0.7316017316017316\n",
      "iteration 14 done. Accuracy = 0.7316017316017316\n",
      "iteration 15 done. Accuracy = 0.7316017316017316\n",
      "iteration 16 done. Accuracy = 0.7316017316017316\n",
      "iteration 17 done. Accuracy = 0.7316017316017316\n",
      "iteration 18 done. Accuracy = 0.7316017316017316\n",
      "iteration 19 done. Accuracy = 0.7316017316017316\n",
      "iteration 20 done. Accuracy = 0.7316017316017316\n",
      "iteration 21 done. Accuracy = 0.7316017316017316\n",
      "iteration 22 done. Accuracy = 0.7316017316017316\n",
      "iteration 23 done. Accuracy = 0.7316017316017316\n",
      "iteration 24 done. Accuracy = 0.7316017316017316\n"
     ]
    },
    {
     "data": {
      "image/png": "[encoded data removed]",
      "text/plain": [
       "<Figure size 640x480 with 1 Axes>"
      ]
     },
     "metadata": {},
     "output_type": "display_data"
    }
   ],
   "source": [
    "# running model to find max features\n",
    "figsize=(20, 5)\n",
    "maxf = range(1,25)\n",
    "scores = []\n",
    "for d in maxf:\n",
    "    classifier=RandomForestClassifier(max_depth = 19, max_features = d, random_state=21)\n",
    "    classifier=classifier.fit(X_train,y_train)\n",
    "    score = classifier.score(X_test, y_test)\n",
    "    scores.append(classifier.score(X_test, y_test))\n",
    "    print(\"iteration {} done. Accuracy = \".format(d) + str(score))\n",
    "    \n",
    "plt.plot(maxf, scores, '-o')\n",
    "plt.xlabel('maxf, d')\n",
    "plt.ylabel('scores')\n",
    "plt.xticks(maxf)\n",
    "plt.show()"
   ]
  },
  {
   "cell_type": "code",
   "execution_count": 42,
   "id": "55f7dd75",
   "metadata": {},
   "outputs": [
    {
     "name": "stdout",
     "output_type": "stream",
     "text": [
      "Confusion Matrix:\n",
      "[[119  32]\n",
      " [ 26  54]]\n",
      "\n",
      "Accuracy Score: 0.7489\n",
      "Recall Score: 0.6750\n",
      "Precision Score: 0.6279\n"
     ]
    }
   ],
   "source": [
    "# running with set max features = 5 because it provided the highest accuracy score. data may change when script is ran again. \n",
    "vartrain = X_train\n",
    "vartest = X_test\n",
    "model = RandomForestClassifier(max_depth=17, max_features = 5, random_state=21)\n",
    "shorttraintest(vartrain, vartest, y_train, y_test, model)"
   ]
  },
  {
   "cell_type": "code",
   "execution_count": 43,
   "id": "139ff28f",
   "metadata": {},
   "outputs": [
    {
     "name": "stdout",
     "output_type": "stream",
     "text": [
      "iteration 1 done. Accuracy = 0.7229437229437229\n",
      "iteration 20 done. Accuracy = 0.7532467532467533\n",
      "iteration 50 done. Accuracy = 0.7575757575757576\n",
      "iteration 100 done. Accuracy = 0.7316017316017316\n",
      "iteration 150 done. Accuracy = 0.7445887445887446\n",
      "iteration 500 done. Accuracy = 0.7402597402597403\n"
     ]
    },
    {
     "data": {
      "image/png": "[encoded data removed]",
      "text/plain": [
       "<Figure size 640x480 with 1 Axes>"
      ]
     },
     "metadata": {},
     "output_type": "display_data"
    }
   ],
   "source": [
    "#CodeBlock Subsection 5.2\n",
    "# running model to find n_estimators\n",
    "figsize=(20, 5)\n",
    "est = [1, 20, 50, 100, 150, 500]\n",
    "scores = []\n",
    "\n",
    "for d in est:\n",
    "        classifier=RandomForestClassifier(max_depth = 19, max_features = 13, n_estimators = d, random_state=21)\n",
    "        classifier=classifier.fit(X_train,y_train)\n",
    "        score = classifier.score(X_test, y_test)\n",
    "        scores.append(classifier.score(X_test, y_test))\n",
    "        print(\"iteration {} done. Accuracy = \".format(d) + str(score))\n",
    "                                          \n",
    "plt.plot(est, scores, '-o')\n",
    "plt.xlabel('est, d')\n",
    "plt.ylabel('scores')\n",
    "plt.xticks(est)\n",
    "plt.show()"
   ]
  },
  {
   "cell_type": "code",
   "execution_count": 44,
   "id": "a7a0ea5b",
   "metadata": {},
   "outputs": [
    {
     "name": "stdout",
     "output_type": "stream",
     "text": [
      "Confusion Matrix:\n",
      "[[120  31]\n",
      " [ 25  55]]\n",
      "\n",
      "Accuracy Score: 0.7576\n",
      "Recall Score: 0.6875\n",
      "Precision Score: 0.6395\n"
     ]
    }
   ],
   "source": [
    "#Final Optimal Model\n",
    "# running model with set parameters with n_estimators = 50 because it provided the highest accuracy score. data may change when whole script is ran.\n",
    "\n",
    "model = RandomForestClassifier(max_depth=19, max_features = 13, n_estimators = 50, random_state=21)\n",
    "shorttraintest(vartrain, vartest, y_train, y_test, model)"
   ]
  },
  {
   "cell_type": "markdown",
   "id": "48fb5b53",
   "metadata": {},
   "source": [
    "# Finding Decision Model (RandomForest)"
   ]
  },
  {
   "cell_type": "code",
   "execution_count": 45,
   "id": "102afe6d",
   "metadata": {},
   "outputs": [
    {
     "name": "stdout",
     "output_type": "stream",
     "text": [
      "----------------------\n",
      "Model with Class Weight: None\n",
      "\n",
      "Confusion Matrix:\n",
      "[[117  34]\n",
      " [ 28  52]]\n",
      "\n",
      "Accuracy Score: 0.7316\n",
      "Recall Score: 0.6500\n",
      "Precision Score: 0.6047\n",
      "----------------------\n",
      "----------------------\n",
      "Model with Class Weight: balanced\n",
      "\n",
      "Confusion Matrix:\n",
      "[[123  28]\n",
      " [ 29  51]]\n",
      "\n",
      "Accuracy Score: 0.7532\n",
      "Recall Score: 0.6375\n",
      "Precision Score: 0.6456\n",
      "----------------------\n",
      "----------------------\n",
      "Model with Class Weight: {0: 1, 1: 1.5}\n",
      "\n",
      "Confusion Matrix:\n",
      "[[118  33]\n",
      " [ 27  53]]\n",
      "\n",
      "Accuracy Score: 0.7403\n",
      "Recall Score: 0.6625\n",
      "Precision Score: 0.6163\n",
      "----------------------\n",
      "----------------------\n",
      "Model with Class Weight: {0: 1, 1: 2}\n",
      "\n",
      "Confusion Matrix:\n",
      "[[123  28]\n",
      " [ 28  52]]\n",
      "\n",
      "Accuracy Score: 0.7576\n",
      "Recall Score: 0.6500\n",
      "Precision Score: 0.6500\n",
      "----------------------\n",
      "----------------------\n",
      "Model with Class Weight: {0: 1, 1: 2.5}\n",
      "\n",
      "Confusion Matrix:\n",
      "[[126  25]\n",
      " [ 29  51]]\n",
      "\n",
      "Accuracy Score: 0.7662\n",
      "Recall Score: 0.6375\n",
      "Precision Score: 0.6711\n",
      "----------------------\n",
      "----------------------\n",
      "Model with Class Weight: {0: 1, 1: 3}\n",
      "\n",
      "Confusion Matrix:\n",
      "[[124  27]\n",
      " [ 30  50]]\n",
      "\n",
      "Accuracy Score: 0.7532\n",
      "Recall Score: 0.6250\n",
      "Precision Score: 0.6494\n",
      "----------------------\n",
      "----------------------\n",
      "Model with Class Weight: {0: 1, 1: 4}\n",
      "\n",
      "Confusion Matrix:\n",
      "[[124  27]\n",
      " [ 32  48]]\n",
      "\n",
      "Accuracy Score: 0.7446\n",
      "Recall Score: 0.6000\n",
      "Precision Score: 0.6400\n",
      "----------------------\n",
      "----------------------\n",
      "Model with Class Weight: {0: 1, 1: 4.5}\n",
      "\n",
      "Confusion Matrix:\n",
      "[[125  26]\n",
      " [ 34  46]]\n",
      "\n",
      "Accuracy Score: 0.7403\n",
      "Recall Score: 0.5750\n",
      "Precision Score: 0.6389\n",
      "----------------------\n",
      "----------------------\n",
      "Model with Class Weight: {0: 1, 1: 5}\n",
      "\n",
      "Confusion Matrix:\n",
      "[[125  26]\n",
      " [ 36  44]]\n",
      "\n",
      "Accuracy Score: 0.7316\n",
      "Recall Score: 0.5500\n",
      "Precision Score: 0.6286\n",
      "----------------------\n",
      "----------------------\n",
      "Model with Class Weight: {0: 1, 1: 5.5}\n",
      "\n",
      "Confusion Matrix:\n",
      "[[126  25]\n",
      " [ 38  42]]\n",
      "\n",
      "Accuracy Score: 0.7273\n",
      "Recall Score: 0.5250\n",
      "Precision Score: 0.6269\n",
      "----------------------\n",
      "----------------------\n",
      "Model with Class Weight: {0: 1, 1: 10}\n",
      "\n",
      "Confusion Matrix:\n",
      "[[126  25]\n",
      " [ 36  44]]\n",
      "\n",
      "Accuracy Score: 0.7359\n",
      "Recall Score: 0.5500\n",
      "Precision Score: 0.6377\n",
      "----------------------\n",
      "----------------------\n",
      "Model with Class Weight: {0: 1, 1: 100}\n",
      "\n",
      "Confusion Matrix:\n",
      "[[125  26]\n",
      " [ 39  41]]\n",
      "\n",
      "Accuracy Score: 0.7186\n",
      "Recall Score: 0.5125\n",
      "Precision Score: 0.6119\n",
      "----------------------\n"
     ]
    }
   ],
   "source": [
    "\n",
    "# checking class weight \n",
    "cw = [None, 'balanced', {0:1, 1:1.5}, {0:1, 1:2}, {0:1, 1:2.5}, {0:1, 1:3}, {0:1, 1:4}, {0:1, 1:4.5},{0:1, 1:5\n",
    "}, {0:1, 1:5.5},{0:1, 1:10}, {0:1, 1:100}]\n",
    "\n",
    "vartrain = X_train\n",
    "vartest = X_test\n",
    "\n",
    "for w in cw:\n",
    "    print('----------------------')\n",
    "    vartitle = \"Model with Class Weight: \" + str(w)\n",
    "    varcw = w\n",
    "    model = RandomForestClassifier(max_depth=19, max_features = 13, n_estimators = 100, class_weight=varcw,  random_state=21)\n",
    "    print(vartitle)\n",
    "    print('')\n",
    "    shorttraintest(vartrain, vartest, y_train, y_test, model)\n",
    "    print('----------------------')\n",
    "    "
   ]
  },
  {
   "cell_type": "code",
   "execution_count": 46,
   "id": "a6e65d6c",
   "metadata": {},
   "outputs": [
    {
     "name": "stdout",
     "output_type": "stream",
     "text": [
      "Confusion Matrix:\n",
      "[[123  28]\n",
      " [ 28  52]]\n",
      "\n",
      "Accuracy Score: 0.7576\n",
      "Recall Score: 0.6500\n",
      "Precision Score: 0.6500\n"
     ]
    }
   ],
   "source": [
    "#Decision Model For Random Forest\n",
    "vartrain = X_train\n",
    "vartest = X_test\n",
    "model = RandomForestClassifier(max_depth=19, max_features = 13, n_estimators = 100, class_weight={0: 1, 1: 2}, random_state=21)\n",
    "shorttraintest(vartrain, vartest, y_train, y_test, model)"
   ]
  },
  {
   "cell_type": "code",
   "execution_count": 49,
   "id": "4381135f",
   "metadata": {},
   "outputs": [],
   "source": [
    "from sklearn.tree import DecisionTreeClassifier # to build a classification tree\n",
    "from sklearn.model_selection import train_test_split # to split data into training and testing se\n",
    "from sklearn.model_selection import cross_val_score # for cross validation\n",
    "from sklearn.metrics import confusion_matrix, classification_report # to create a confusion matrix\n",
    "from sklearn.metrics import ConfusionMatrixDisplay # to draw a confusion matrix\n",
    "from sklearn.tree import plot_tree # to draw a classification tree\n",
    "from sklearn.metrics import precision_score, recall_score\n",
    "from sklearn.metrics import roc_curve, roc_auc_score\n",
    "from sklearn.linear_model import LogisticRegression\n",
    "from sklearn.metrics import f1_score"
   ]
  },
  {
   "cell_type": "code",
   "execution_count": 51,
   "id": "935af8a0",
   "metadata": {},
   "outputs": [
    {
     "name": "stdout",
     "output_type": "stream",
     "text": [
      "rf_dec - Score: 0.7446 - Recall: 0.6375 - Precision: 0.6296 - F1: 0.6335\n",
      "----------------------------------------------------------------\n"
     ]
    },
    {
     "data": {
      "text/html": [
       "<div>\n",
       "<style scoped>\n",
       "    .dataframe tbody tr th:only-of-type {\n",
       "        vertical-align: middle;\n",
       "    }\n",
       "\n",
       "    .dataframe tbody tr th {\n",
       "        vertical-align: top;\n",
       "    }\n",
       "\n",
       "    .dataframe thead th {\n",
       "        text-align: right;\n",
       "    }\n",
       "</style>\n",
       "<table border=\"1\" class=\"dataframe\">\n",
       "  <thead>\n",
       "    <tr style=\"text-align: right;\">\n",
       "      <th></th>\n",
       "      <th>actual</th>\n",
       "      <th>Model</th>\n",
       "      <th>Type</th>\n",
       "      <th>pred_nodiabetes</th>\n",
       "      <th>pred_diabetes</th>\n",
       "      <th>Score</th>\n",
       "      <th>Recall</th>\n",
       "      <th>Precision</th>\n",
       "      <th>F1</th>\n",
       "    </tr>\n",
       "  </thead>\n",
       "  <tbody>\n",
       "    <tr>\n",
       "      <th>0</th>\n",
       "      <td>no_diabetes</td>\n",
       "      <td>Logistic</td>\n",
       "      <td>log_opt</td>\n",
       "      <td>129</td>\n",
       "      <td>22</td>\n",
       "      <td>0.6797</td>\n",
       "      <td>0.3500</td>\n",
       "      <td>0.5600</td>\n",
       "      <td>0.4308</td>\n",
       "    </tr>\n",
       "    <tr>\n",
       "      <th>1</th>\n",
       "      <td>diabetes</td>\n",
       "      <td>Logistic</td>\n",
       "      <td>log_opt</td>\n",
       "      <td>52</td>\n",
       "      <td>28</td>\n",
       "      <td>0.6797</td>\n",
       "      <td>0.3500</td>\n",
       "      <td>0.5600</td>\n",
       "      <td>0.4308</td>\n",
       "    </tr>\n",
       "    <tr>\n",
       "      <th>2</th>\n",
       "      <td>no_diabetes</td>\n",
       "      <td>Logistic</td>\n",
       "      <td>log_dec</td>\n",
       "      <td>59</td>\n",
       "      <td>92</td>\n",
       "      <td>0.5584</td>\n",
       "      <td>0.8750</td>\n",
       "      <td>0.4321</td>\n",
       "      <td>0.5785</td>\n",
       "    </tr>\n",
       "    <tr>\n",
       "      <th>3</th>\n",
       "      <td>diabetes</td>\n",
       "      <td>Logistic</td>\n",
       "      <td>log_dec</td>\n",
       "      <td>10</td>\n",
       "      <td>70</td>\n",
       "      <td>0.5584</td>\n",
       "      <td>0.8750</td>\n",
       "      <td>0.4321</td>\n",
       "      <td>0.5785</td>\n",
       "    </tr>\n",
       "    <tr>\n",
       "      <th>4</th>\n",
       "      <td>no_diabetes</td>\n",
       "      <td>DecisionTree</td>\n",
       "      <td>dt_opt</td>\n",
       "      <td>95</td>\n",
       "      <td>56</td>\n",
       "      <td>0.6926</td>\n",
       "      <td>0.8125</td>\n",
       "      <td>0.5372</td>\n",
       "      <td>0.6468</td>\n",
       "    </tr>\n",
       "    <tr>\n",
       "      <th>5</th>\n",
       "      <td>diabetes</td>\n",
       "      <td>DecisionTree</td>\n",
       "      <td>dt_opt</td>\n",
       "      <td>15</td>\n",
       "      <td>65</td>\n",
       "      <td>0.6926</td>\n",
       "      <td>0.8125</td>\n",
       "      <td>0.5372</td>\n",
       "      <td>0.6468</td>\n",
       "    </tr>\n",
       "    <tr>\n",
       "      <th>6</th>\n",
       "      <td>no_diabetes</td>\n",
       "      <td>DecisionTree</td>\n",
       "      <td>dt_dec</td>\n",
       "      <td>77</td>\n",
       "      <td>74</td>\n",
       "      <td>0.6364</td>\n",
       "      <td>0.8750</td>\n",
       "      <td>0.4861</td>\n",
       "      <td>0.6250</td>\n",
       "    </tr>\n",
       "    <tr>\n",
       "      <th>7</th>\n",
       "      <td>diabetes</td>\n",
       "      <td>DecisionTree</td>\n",
       "      <td>dt_dec</td>\n",
       "      <td>10</td>\n",
       "      <td>70</td>\n",
       "      <td>0.6364</td>\n",
       "      <td>0.8750</td>\n",
       "      <td>0.4861</td>\n",
       "      <td>0.6250</td>\n",
       "    </tr>\n",
       "    <tr>\n",
       "      <th>8</th>\n",
       "      <td>no_diabetes</td>\n",
       "      <td>RandomForest</td>\n",
       "      <td>rf_opt</td>\n",
       "      <td>123</td>\n",
       "      <td>28</td>\n",
       "      <td>0.7706</td>\n",
       "      <td>0.6875</td>\n",
       "      <td>0.6627</td>\n",
       "      <td>0.6748</td>\n",
       "    </tr>\n",
       "    <tr>\n",
       "      <th>9</th>\n",
       "      <td>diabetes</td>\n",
       "      <td>RandomForest</td>\n",
       "      <td>rf_opt</td>\n",
       "      <td>25</td>\n",
       "      <td>55</td>\n",
       "      <td>0.7706</td>\n",
       "      <td>0.6875</td>\n",
       "      <td>0.6627</td>\n",
       "      <td>0.6748</td>\n",
       "    </tr>\n",
       "    <tr>\n",
       "      <th>10</th>\n",
       "      <td>no_diabetes</td>\n",
       "      <td>RandomForest</td>\n",
       "      <td>rf_dec</td>\n",
       "      <td>121</td>\n",
       "      <td>30</td>\n",
       "      <td>0.7446</td>\n",
       "      <td>0.6375</td>\n",
       "      <td>0.6296</td>\n",
       "      <td>0.6335</td>\n",
       "    </tr>\n",
       "    <tr>\n",
       "      <th>11</th>\n",
       "      <td>diabetes</td>\n",
       "      <td>RandomForest</td>\n",
       "      <td>rf_dec</td>\n",
       "      <td>29</td>\n",
       "      <td>51</td>\n",
       "      <td>0.7446</td>\n",
       "      <td>0.6375</td>\n",
       "      <td>0.6296</td>\n",
       "      <td>0.6335</td>\n",
       "    </tr>\n",
       "  </tbody>\n",
       "</table>\n",
       "</div>"
      ],
      "text/plain": [
       "         actual         Model     Type pred_nodiabetes pred_diabetes   Score  \\\n",
       "0   no_diabetes      Logistic  log_opt             129            22  0.6797   \n",
       "1      diabetes      Logistic  log_opt              52            28  0.6797   \n",
       "2   no_diabetes      Logistic  log_dec              59            92  0.5584   \n",
       "3      diabetes      Logistic  log_dec              10            70  0.5584   \n",
       "4   no_diabetes  DecisionTree   dt_opt              95            56  0.6926   \n",
       "5      diabetes  DecisionTree   dt_opt              15            65  0.6926   \n",
       "6   no_diabetes  DecisionTree   dt_dec              77            74  0.6364   \n",
       "7      diabetes  DecisionTree   dt_dec              10            70  0.6364   \n",
       "8   no_diabetes  RandomForest   rf_opt             123            28  0.7706   \n",
       "9      diabetes  RandomForest   rf_opt              25            55  0.7706   \n",
       "10  no_diabetes  RandomForest   rf_dec             121            30  0.7446   \n",
       "11     diabetes  RandomForest   rf_dec              29            51  0.7446   \n",
       "\n",
       "    Recall Precision      F1  \n",
       "0   0.3500    0.5600  0.4308  \n",
       "1   0.3500    0.5600  0.4308  \n",
       "2   0.8750    0.4321  0.5785  \n",
       "3   0.8750    0.4321  0.5785  \n",
       "4   0.8125    0.5372  0.6468  \n",
       "5   0.8125    0.5372  0.6468  \n",
       "6   0.8750    0.4861  0.6250  \n",
       "7   0.8750    0.4861  0.6250  \n",
       "8   0.6875    0.6627  0.6748  \n",
       "9   0.6875    0.6627  0.6748  \n",
       "10  0.6375    0.6296  0.6335  \n",
       "11  0.6375    0.6296  0.6335  "
      ]
     },
     "metadata": {},
     "output_type": "display_data"
    },
    {
     "name": "stdout",
     "output_type": "stream",
     "text": [
      "--------------------------------------------------------------------\n"
     ]
    }
   ],
   "source": [
    "#Set the parameters for the 6 models\n",
    "model = [\n",
    "#Logistic Regression - 3 models\n",
    "(X_train, X_test, y_train,'log_opt','Logistic',\n",
    "LogisticRegression(C=1000, penalty = 'l1', solver= 'saga', random_state=21)),\n",
    "(X_train, X_test, y_train,'log_dec', 'Logistic',\n",
    "LogisticRegression(C=10, class_weight = {0: 1, 1:2.5}, penalty = 'l1', solver = 'saga', random_state=21)),\n",
    "#Decision Tree - 3 models\n",
    "(X_train, X_test, y_train,'dt_opt', 'DecisionTree',\n",
    "DecisionTreeClassifier(max_depth = 6, max_leaf_nodes = 36,class_weight={0: 1, 1: 5.5}, criterion = 'entropy', random_state = 21)),\n",
    "(X_train, X_test, y_train,'dt_dec', 'DecisionTree',\n",
    "DecisionTreeClassifier(max_depth = 5, max_leaf_nodes = 36,class_weight={0: 1, 1: 10}, criterion = 'entropy', random_state = 21)),\n",
    "#Random Forest - 3 models\n",
    "(X_train, X_test, y_train,'rf_opt', 'RandomForest',\n",
    "RandomForestClassifier(max_depth = 19, max_features = 13,n_estimators = 50, class_weight= None , criterion = 'entropy', random_state=21)),\n",
    "(X_train, X_test, y_train,'rf_dec', 'RandomForest',\n",
    "RandomForestClassifier(max_depth = 19, max_features = 13,n_estimators = 50, class_weight={0: 1, 1: 2}, criterion = 'entropy', random_state=21)),\n",
    "]\n",
    "cm_all = pd.DataFrame(columns=['Model', 'Type','pred_nodiabetes', 'pred_diabetes',\n",
    "'Score', 'Recall', 'Precision', 'F1'])\n",
    "for tr, tst, yt, n, mod, m in model:\n",
    "\n",
    "    m.fit(tr, yt)\n",
    "    model_pred = m.predict(tst)\n",
    "    model_prob = m.predict_proba(tst)\n",
    "    score = m.score(tst, y_test)\n",
    "    score_format = '{0:.4f}'.format(score)\n",
    "\n",
    "    recall = recall_score(y_test, model_pred)\n",
    "    recall_format = '{0:.4f}'.format(recall)\n",
    "\n",
    "    f1 = f1_score(y_test, model_pred)    \n",
    "    f1_format = '{0:.4f}'.format(f1)\n",
    "    \n",
    "    precision = precision_score(y_test, model_pred)    \n",
    "    precision_format = '{0:.4f}'.format(precision)\n",
    "    \n",
    "    y_pred_prob = m.predict_proba(tst)[:,1]    \n",
    "    fpr, tpr, thresholds = roc_curve(y_test, y_pred_prob)\n",
    "    exec(f'fpr_{n} = fpr')\n",
    "    exec(f'tpr_{n} = tpr')\n",
    "    exec(f'thresholds_{n} = thresholds')\n",
    "    exec(f'{n} = n')\n",
    "    \n",
    "    cm = pd.DataFrame(confusion_matrix(y_test, model_pred))\n",
    "    cm=cm.rename(columns = {0:'pred_nodiabetes', 1:'pred_diabetes'})\n",
    "    exec(f'cm_{n} = cm')\n",
    "    cm['Model'] = mod\n",
    "    cm['Type'] = n\n",
    "    cm['Score'] = score_format\n",
    "    cm['Recall'] = recall_format\n",
    "    cm['Precision'] = precision_format\n",
    "    cm['F1'] = f1_format\n",
    "    cm_all = pd.concat([cm_all, cm], axis=0)\n",
    "print(n + \" - Score: \" + str(score_format) + \" - Recall: \" +\n",
    "str(recall_format) + \" - Precision: \" + str(precision_format) + \" - F1: \" +\n",
    "str(f1_format))\n",
    "print('----------------------------------------------------------------')\n",
    "cm_all = cm_all.reset_index()\n",
    "cm_all['index'] = np.where(cm_all['index']==0, 'no_diabetes', 'diabetes')\n",
    "cm_all = cm_all.rename(columns={'index':'actual'})\n",
    "display(cm_all)\n",
    "print('--------------------------------------------------------------------')"
   ]
  },
  {
   "cell_type": "code",
   "execution_count": null,
   "id": "9b6cc1c1",
   "metadata": {},
   "outputs": [],
   "source": [
    "rf_predict_train = rf_model.predict(x_train)\n",
    "# Training metrics\n",
    "print(\"Accuracy: {0:.4f}\".format(metrics.accuracy_score(y_train, rf_predict_train)))"
   ]
  },
  {
   "cell_type": "markdown",
   "id": "bd9f51b7",
   "metadata": {},
   "source": [
    "Wow! accuracy is 100%... Lets see what it does with the test data"
   ]
  },
  {
   "cell_type": "markdown",
   "id": "7c688277",
   "metadata": {},
   "source": [
    "Based on the chart, the most accurate for the optimal model random forest is when depth is set to 14 or 16. We'll go with 16 as depth."
   ]
  },
  {
   "cell_type": "markdown",
   "id": "5ffbb797",
   "metadata": {},
   "source": [
    "### Predict Test Data"
   ]
  },
  {
   "cell_type": "code",
   "execution_count": null,
   "id": "234ee855",
   "metadata": {},
   "outputs": [],
   "source": [
    "rf_predict_test = rf_model.predict(x_test)\n",
    "# Test metrics\n",
    "print(\"Accuracy: {0:.4f}\".format(metrics.accuracy_score(y_test, rf_predict_test)))"
   ]
  },
  {
   "cell_type": "code",
   "execution_count": null,
   "id": "c2debff7",
   "metadata": {},
   "outputs": [],
   "source": [
    "print(metrics.confusion_matrix(y_test, rf_predict_test))\n",
    "print(\"\")\n",
    "print(\"Classification Report\")\n",
    "print(metrics.classification_report(y_test, rf_predict_test))"
   ]
  },
  {
   "cell_type": "markdown",
   "id": "a352dd1d",
   "metadata": {},
   "source": [
    "Fitting Training data can be very complex formula y = x1 + w2x2^3 + w3x3^8 to fit the decision boundat"
   ]
  },
  {
   "cell_type": "markdown",
   "id": "74f2a784",
   "metadata": {},
   "source": [
    "This a classic overfit problem... it shows up in the test dataset"
   ]
  },
  {
   "cell_type": "markdown",
   "id": "673379c5",
   "metadata": {},
   "source": [
    "To fix the over fitting problem one can use the Regularization hyperparameter to avoid a perfext fitting on the boundary line\n",
    "y = x1 + w2x2^3 + w3x3^8 - f(W)/&(Lambda)\n",
    "\n",
    "Cross Validation - Done using different test datasets\n",
    "\n",
    "Bias - variance trade-off  (compromise in machine learning algorithms)\n",
    "\n",
    "We need to Sacrifice some perfection for better overall performance"
   ]
  },
  {
   "cell_type": "markdown",
   "id": "8a179b7e",
   "metadata": {},
   "source": [
    "### Logistic Regression"
   ]
  },
  {
   "cell_type": "code",
   "execution_count": null,
   "id": "422aacfc",
   "metadata": {},
   "outputs": [],
   "source": [
    "from sklearn.linear_model import LogisticRegression\n",
    "\n",
    "lr_model = LogisticRegression(C=0.7, class_weight=\"balanced\", random_state=42, max_iter=500)\n",
    "lr_model.fit(x_train, y_train.ravel())\n",
    "lr_predict_test = lr_model.predict(x_test)\n",
    "\n",
    "# training metrics\n",
    "print(\"ASccuracy: {0:.4f}\".format(metrics.accuracy_score(y_test, lr_predict_test)))\n",
    "print(metrics.confusion_matrix(y_test, lr_predict_test))\n",
    "print(\"\")\n",
    "print(\"Classification Report\")\n",
    "print(metrics.classification_report(y_test, lr_predict_test))"
   ]
  },
  {
   "cell_type": "markdown",
   "id": "5e357b08",
   "metadata": {},
   "source": [
    "#### Setting the regularization paramter"
   ]
  },
  {
   "cell_type": "code",
   "execution_count": null,
   "id": "866a86f3",
   "metadata": {},
   "outputs": [],
   "source": [
    "C_start = 0.1\n",
    "C_end = 5\n",
    "C_inc = 0.1\n",
    "\n",
    "C_values, recall_scores = [], []\n",
    "\n",
    "C_val = C_start\n",
    "best_recall_score = 0\n",
    "while (C_val < C_end):\n",
    "    C_values.append(C_val)\n",
    "    lr_model_loop = LogisticRegression(C=C_val, class_weight=\"balanced\", random_state=42, max_iter=1000)\n",
    "    lr_model_loop.fit(x_train, y_train.ravel())\n",
    "    lr_predict_loop_test = lr_model_loop.predict(x_test)\n",
    "    recall_score = metrics.recall_score(y_test, lr_predict_loop_test)\n",
    "    recall_scores.append(recall_score)\n",
    "    if (recall_score > best_recall_score):\n",
    "        best_recall_score = recall_score\n",
    "        best_lr_predict_test = lr_predict_loop_test\n",
    "    \n",
    "    C_val = C_val + C_inc\n",
    "\n",
    "best_score_C_val = C_values[recall_scores.index(best_recall_score)]\n",
    "print(\"lst max value of {0:.3f} occured at C={1:.3f}\".format(best_recall_score, best_score_C_val))\n",
    "\n",
    "%matplotlib inline\n",
    "plt.plot(C_values, recall_scores, \"-\")\n",
    "plt.xlabel(\"C value\")\n",
    "plt.ylabel(\"recall score\")"
   ]
  },
  {
   "cell_type": "markdown",
   "id": "566862c2",
   "metadata": {},
   "source": [
    "Unbalanced classes can cause the issue we are seeing:\n",
    "More of one class than the others\n",
    "Our Data - 65% No Diabetes, 35% Diabetes\n",
    "Can be causing biases estimation yielding poor prediction results"
   ]
  },
  {
   "cell_type": "code",
   "execution_count": null,
   "id": "c119e673",
   "metadata": {},
   "outputs": [],
   "source": [
    "# training metrics\n",
    "print(\"ASccuracy: {0:.4f}\".format(metrics.accuracy_score(y_test, lr_predict_test)))\n",
    "print(metrics.confusion_matrix(y_test, lr_predict_test))\n",
    "print(\"\")\n",
    "print(\"Classification Report\")\n",
    "print(metrics.classification_report(y_test, lr_predict_test))"
   ]
  },
  {
   "cell_type": "markdown",
   "id": "eccaa0e7",
   "metadata": {},
   "source": [
    "### Splitting the data to enable Cross Validation\n",
    "\n",
    "Split data in Training, Validation and Testing\n",
    "50% Training\n",
    "25% Validation\n",
    "25% Testing\n",
    "\n",
    "Another and better approach is to use K-fold Cross Validation\n",
    "for example: use 70 % training and 30% for Testing\n",
    "Divide the Training dataset into 10 folds\n",
    "use the 1st Fold as validation for iteration 1\n",
    "use the second Fold for validaion for iteration 2\n",
    "and so forth"
   ]
  },
  {
   "cell_type": "markdown",
   "id": "99024980",
   "metadata": {},
   "source": [
    "### LogisticRegressionCV    - Cross Validation(CV)"
   ]
  },
  {
   "cell_type": "code",
   "execution_count": null,
   "id": "a05b431b",
   "metadata": {},
   "outputs": [],
   "source": [
    "from sklearn.linear_model import LogisticRegressionCV\n",
    "lr_cv_model = LogisticRegressionCV(n_jobs=-1, random_state=42, Cs=3, cv=10, refit=False, class_weight=\"balanced\")\n",
    "lr_cv_model.fit(x_train, y_train.ravel())"
   ]
  },
  {
   "cell_type": "markdown",
   "id": "a5566254",
   "metadata": {},
   "source": [
    "### Predict on test data"
   ]
  },
  {
   "cell_type": "code",
   "execution_count": null,
   "id": "e7722de1",
   "metadata": {},
   "outputs": [],
   "source": [
    "lr_cv_predict_test = lr_cv_model.predict(x_test)\n",
    "\n",
    "# training metrics\n",
    "print(\"Accuracy: {0:.4f}\".format(metrics.accuracy_score(y_test, lr_cv_predict_test)))\n",
    "print(metrics.confusion_matrix(y_test, lr_cv_predict_test))\n",
    "print(\"\")\n",
    "print(\"Classification Report\")\n",
    "print(metrics.classification_report(y_test, lr_cv_predict_test))"
   ]
  },
  {
   "cell_type": "code",
   "execution_count": null,
   "id": "2fa1c179",
   "metadata": {},
   "outputs": [],
   "source": []
  }
 ],
 "metadata": {
  "kernelspec": {
   "display_name": "Python 3 (ipykernel)",
   "language": "python",
   "name": "python3"
  },
  "language_info": {
   "codemirror_mode": {
    "name": "ipython",
    "version": 3
   },
   "file_extension": ".py",
   "mimetype": "text/x-python",
   "name": "python",
   "nbconvert_exporter": "python",
   "pygments_lexer": "ipython3",
   "version": "3.10.9"
  }
 },
 "nbformat": 4,
 "nbformat_minor": 5
}
